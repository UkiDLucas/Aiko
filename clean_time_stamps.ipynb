{
 "cells": [
  {
   "cell_type": "markdown",
   "id": "d29c0e6c-4a1a-44a9-8646-e6d96ea13a31",
   "metadata": {},
   "source": [
    "# How to pass one function into another"
   ]
  },
  {
   "cell_type": "code",
   "execution_count": 1,
   "id": "872cd3e8-9ab7-4004-a5a2-22b9c9a49de2",
   "metadata": {},
   "outputs": [
    {
     "name": "stdout",
     "output_type": "stream",
     "text": [
      "są"
     ]
    }
   ],
   "source": [
    "function f(text::String)\n",
    "    text = replace(text, \"a\" => \"ą\")\n",
    "    return text\n",
    "end\n",
    "\n",
    "print(f(\"sa\"))"
   ]
  },
  {
   "cell_type": "code",
   "execution_count": 2,
   "id": "8a5ca360-1b58-4169-9aa2-93c24e0a6b12",
   "metadata": {},
   "outputs": [
    {
     "data": {
      "text/plain": [
       "\"kąsi\""
      ]
     },
     "execution_count": 2,
     "metadata": {},
     "output_type": "execute_result"
    }
   ],
   "source": [
    "function g(any_func::Function, text::String) #Define a function g that accepts any function as input and then calls that function\n",
    "    text = any_func(text)\n",
    "    return text\n",
    "end\n",
    "\n",
    "g(f, \"kasi\") #Call g with f as the input"
   ]
  },
  {
   "cell_type": "markdown",
   "id": "1dd8e500-202e-435a-99e2-a059a12bae7a",
   "metadata": {},
   "source": [
    "# Clean Lex Friedman directory"
   ]
  },
  {
   "cell_type": "code",
   "execution_count": 3,
   "id": "64778a40-18a4-41d7-806d-af4c0d346144",
   "metadata": {},
   "outputs": [
    {
     "data": {
      "text/plain": [
       "remove_timestamps (generic function with 1 method)"
      ]
     },
     "execution_count": 3,
     "metadata": {},
     "output_type": "execute_result"
    }
   ],
   "source": [
    "include(\"../julia/remove_timestamps.jl\")"
   ]
  },
  {
   "cell_type": "code",
   "execution_count": 4,
   "id": "7589d86a-1534-4269-ba54-d23dda581498",
   "metadata": {},
   "outputs": [
    {
     "data": {
      "text/plain": [
       "replace_in_md_files (generic function with 1 method)"
      ]
     },
     "execution_count": 4,
     "metadata": {},
     "output_type": "execute_result"
    }
   ],
   "source": [
    "include(\"../julia/replace_in_md_files.jl\")"
   ]
  },
  {
   "cell_type": "code",
   "execution_count": 5,
   "id": "d57dafd4-e433-47be-9ac5-851aff904b3f",
   "metadata": {},
   "outputs": [],
   "source": [
    "# replace_in_md_files(\"/Users/uki_lucas/AIKO/src/Lex/\", remove_timestamps)"
   ]
  },
  {
   "cell_type": "code",
   "execution_count": null,
   "id": "18c4a10f-81c5-41ae-9de2-9b9899012b24",
   "metadata": {},
   "outputs": [],
   "source": []
  }
 ],
 "metadata": {
  "kernelspec": {
   "display_name": "Julia 1.9.0",
   "language": "julia",
   "name": "julia-1.9"
  },
  "language_info": {
   "file_extension": ".jl",
   "mimetype": "application/julia",
   "name": "julia",
   "version": "1.9.0"
  }
 },
 "nbformat": 4,
 "nbformat_minor": 5
}
