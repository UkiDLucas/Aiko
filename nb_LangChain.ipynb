{
 "cells": [
  {
   "cell_type": "markdown",
   "id": "2f76628c-c4d1-4e17-ba5d-364784792a63",
   "metadata": {},
   "source": [
    "Exploring LangChain\n",
    "https://python.langchain.com/en/latest/getting_started/getting_started.html"
   ]
  },
  {
   "cell_type": "code",
   "execution_count": 1,
   "id": "03c46e7a-6fef-4ee4-8e9a-734dbd8e56ac",
   "metadata": {},
   "outputs": [],
   "source": [
    "### RUN ONCE\n",
    "### ! pip install openai ### use conda below\n",
    "# ! conda install langchain -c conda-forge --yes"
   ]
  },
  {
   "cell_type": "code",
   "execution_count": 2,
   "id": "2a55be82-fb44-4042-953d-1c840000d46d",
   "metadata": {},
   "outputs": [],
   "source": [
    "import os\n",
    "from langchain.llms import OpenAI"
   ]
  },
  {
   "cell_type": "code",
   "execution_count": 3,
   "id": "e8900c69-e3be-481c-b7aa-f41fe1614614",
   "metadata": {},
   "outputs": [],
   "source": [
    "# ! echo $OPENAI_API_KEY\n",
    "#import os\n",
    "#os.getenv('OPENAI_API_KEY', 'DEFAULT_VALUE')\n",
    "env_OPENAI_API_KEY = os.environ.get('OPENAI_API_KEY', 'DEFAULT_VALUE')\n",
    "# print(env_OPENAI_API_KEY)"
   ]
  },
  {
   "cell_type": "code",
   "execution_count": 4,
   "id": "92e1fc01-8134-4709-a069-d0100f526876",
   "metadata": {},
   "outputs": [],
   "source": [
    "# print(os.environ)"
   ]
  },
  {
   "cell_type": "code",
   "execution_count": 5,
   "id": "81449728-e871-4384-b5fd-d08f9b921b28",
   "metadata": {},
   "outputs": [],
   "source": [
    "\n"
   ]
  },
  {
   "cell_type": "code",
   "execution_count": 6,
   "id": "77280513-8675-495f-b588-52040f9a8326",
   "metadata": {},
   "outputs": [],
   "source": [
    "llm = OpenAI(openai_api_key=\"OPENAI_API_KEY\")"
   ]
  },
  {
   "cell_type": "code",
   "execution_count": 12,
   "id": "c5e4785d-0e5f-46c2-a780-4244a42de9ae",
   "metadata": {},
   "outputs": [],
   "source": [
    "llm = OpenAI(temperature=0.6)"
   ]
  },
  {
   "cell_type": "code",
   "execution_count": 13,
   "id": "ef6041fa-77ee-48b3-991e-fb2c276e3249",
   "metadata": {},
   "outputs": [
    {
     "name": "stdout",
     "output_type": "stream",
     "text": [
      "\n",
      "\n",
      "Brightly Socked.\n"
     ]
    }
   ],
   "source": [
    "text = \"What would be a good company name for a company that makes colorful socks?\"\n",
    "# Cheery Toes. # temperature=0.8\n",
    "# Rainbow Socks Co. # temperature=0.1\n",
    "print(llm(text))"
   ]
  },
  {
   "cell_type": "code",
   "execution_count": null,
   "id": "7e1e64db-fb5b-408a-aced-b92ac1ad128b",
   "metadata": {},
   "outputs": [],
   "source": []
  }
 ],
 "metadata": {
  "kernelspec": {
   "display_name": "Python 3 (ipykernel)",
   "language": "python",
   "name": "python3"
  },
  "language_info": {
   "codemirror_mode": {
    "name": "ipython",
    "version": 3
   },
   "file_extension": ".py",
   "mimetype": "text/x-python",
   "name": "python",
   "nbconvert_exporter": "python",
   "pygments_lexer": "ipython3",
   "version": "3.10.10"
  }
 },
 "nbformat": 4,
 "nbformat_minor": 5
}
