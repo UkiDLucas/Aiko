{
 "cells": [
  {
   "cell_type": "markdown",
   "metadata": {},
   "source": [
    "# Julia CPU Parallelism\n",
    "\n",
    "## Summary:\n",
    "MacBook M2 Max has 12 CPU cores, </br>\n",
    "however setting JULIA_NUM_THREADS = 12 <font color=red>is NOT beneficial</font><br/>\n",
    "I found that setting <font color=green>JULIA_NUM_THREADS = 6 is optimal</font>."
   ]
  },
  {
   "cell_type": "raw",
   "metadata": {},
   "source": [
    "$ julia --threads=auto\n",
    "               _\n",
    "   _       _ _(_)_     |  Documentation: https://docs.julialang.org\n",
    "  (_)     | (_) (_)    |\n",
    "   _ _   _| |_  __ _   |  Type \"?\" for help, \"]?\" for Pkg help.\n",
    "  | | | | | | |/ _` |  |\n",
    "  | | |_| | | | (_| |  |  Version 1.9.0 (2023-05-07)\n",
    " _/ |\\__'_|_|_|\\__'_|  |  Official https://julialang.org/ release\n",
    "|__/                   |\n",
    "\n",
    "\n",
    "julia> versioninfo()\n",
    "\n",
    "Julia Version 1.9.0\n",
    "Commit 8e630552924 (2023-05-07 11:25 UTC)\n",
    "Platform Info:\n",
    "  OS: macOS (x86_64-apple-darwin22.4.0)\n",
    "  CPU: 12 × Apple M2 Max\n",
    "  WORD_SIZE: 64\n",
    "  LIBM: libopenlibm\n",
    "  LLVM: libLLVM-14.0.6 (ORCJIT, westmere)\n",
    "  Threads: 12 on 12 virtual cores\n",
    "Environment:\n",
    "  JULIA_NUM_THREADS = 12\n",
    "\n",
    "\n",
    "julia> Threads.nthreads()\n",
    "12"
   ]
  },
  {
   "cell_type": "markdown",
   "metadata": {},
   "source": [
    "# Number of cores in various computers\n",
    "\n",
    "- Win 10 Anaconda Prompt: 1\n",
    "- MacBook Pro Intel CPU: 4\n",
    "- MacBook Pro 14-inch M2 Pro CPU: 10\n",
    "- MacBook Pro 16-inch M2 Pro CPU: 12\n",
    "- <font color=green>MacBook Pro M2 Max CPU : 12</font>\n",
    "\n",
    "- 2023-07-06 MacBook Pro M2 Max (JupytherLab) returns 1"
   ]
  },
  {
   "cell_type": "markdown",
   "metadata": {
    "tags": []
   },
   "source": [
    "# Create Julia kernel with 12 threads\n",
    "\n",
    "- execute the blow code a single time to create kernel"
   ]
  },
  {
   "cell_type": "markdown",
   "metadata": {},
   "source": [
    "# Notice 12 cores above (MacBook M2 Max)\n",
    "\n",
    "## <font color=red>Unfortunately, this does not work when starting JupyterLab from Anaconda</font> \n",
    "returns 1. \n",
    "\n",
    "To fix that you will have to create a JupyterLab KERNEL with number of threads you want (after experimentation, I set 6 threads)"
   ]
  },
  {
   "cell_type": "code",
   "execution_count": 1,
   "metadata": {
    "tags": []
   },
   "outputs": [
    {
     "data": {
      "text/plain": [
       "6"
      ]
     },
     "execution_count": 1,
     "metadata": {},
     "output_type": "execute_result"
    }
   ],
   "source": [
    "Threads.nthreads()"
   ]
  },
  {
   "cell_type": "code",
   "execution_count": 2,
   "metadata": {
    "tags": []
   },
   "outputs": [],
   "source": [
    "# Run once\n",
    "#using IJulia\n",
    "#installkernel(\"Julia (7 threads)\", env=Dict(\"JULIA_NUM_THREADS\"=>\"7\"))\n",
    "\n",
    "## [ Info: Installing Julia (7 threads) kernelspec in ~/Library/Jupyter/kernels/julia-_7-threads_-1.9\n",
    "## \"~/Library/Jupyter/kernels/julia-_7-threads_-1.9\""
   ]
  },
  {
   "cell_type": "markdown",
   "metadata": {},
   "source": [
    "- open Kernel menu > change kernel > select number of cores from the dropdown\n",
    "\n",
    "<img src=\"assets/Screenshot 2023-07-08 at 06.49.40.png\" alt=\"select Julia kernel\" />"
   ]
  },
  {
   "cell_type": "code",
   "execution_count": 3,
   "metadata": {
    "tags": []
   },
   "outputs": [
    {
     "data": {
      "text/plain": [
       "6"
      ]
     },
     "execution_count": 3,
     "metadata": {},
     "output_type": "execute_result"
    }
   ],
   "source": [
    "Threads.nthreads()"
   ]
  },
  {
   "cell_type": "markdown",
   "metadata": {},
   "source": [
    "# The following might not be necessary anymore if the above worked\n",
    "\n",
    "## MacOs\n",
    "\n",
    "### Set enviroment variable:\n",
    "- bbedit ~/.zshrc # EDIT variables, use bbedit if you installed it\n",
    "- nano ~/.zshrc # EDIT variables\n",
    "\n",
    "- export JULIA_NUM_THREADS=6 # ADD this line\n",
    "\n",
    "### REFRESH the terminal\n",
    "- source  ~/.zshrc\n",
    "\n",
    "### Test the variable is set\n",
    "$ echo $JULIA_NUM_THREADS\n",
    "6\n",
    "\n",
    "### Restart JupyterLab\n",
    "- Anaconda app > start JupytherLab\n",
    "- $ jupyter lab \n",
    "\n",
    "---\n",
    "\n",
    "## Windows 10, 11\n",
    "\n",
    "### Command Prompt\n",
    "\n",
    "- C:\\Users\\UkiDL>set JULIA_NUM_THREADS=6\n",
    "- C:\\Users\\UkiDL>setx JULIA_NUM_THREADS=6  # set permanantly, persists after closing cmd window\n",
    "- C:\\Users\\UkiDL>echo %JULIA_NUM_THREADS%\n",
    "- 6\n"
   ]
  },
  {
   "cell_type": "code",
   "execution_count": 4,
   "metadata": {
    "tags": []
   },
   "outputs": [
    {
     "data": {
      "text/plain": [
       "6"
      ]
     },
     "execution_count": 4,
     "metadata": {},
     "output_type": "execute_result"
    }
   ],
   "source": [
    "Threads.nthreads()"
   ]
  },
  {
   "cell_type": "code",
   "execution_count": 5,
   "metadata": {
    "tags": []
   },
   "outputs": [],
   "source": [
    "# run ONCE, 216 dependencies successfully precompiled in 160 seconds. 84 already precompiled.\n",
    "# import Pkg; \n",
    "# using Pkg\n",
    "# Pkg.add(\"BenchmarkTools\")  # @btime @test"
   ]
  },
  {
   "cell_type": "code",
   "execution_count": 6,
   "metadata": {
    "tags": []
   },
   "outputs": [
    {
     "data": {
      "text/plain": [
       "\u001b[32m\u001b[1mTest Passed\u001b[22m\u001b[39m"
      ]
     },
     "execution_count": 6,
     "metadata": {},
     "output_type": "execute_result"
    }
   ],
   "source": [
    "using BenchmarkTools\n",
    "\n",
    "size = 2^20             # 2^20 = 1,048,576\n",
    "#x = fill(1.0f0, size)  # a vector filled with 1.0 (Float32)\n",
    "x = fill(2.0, size)     # 1048576-element Array{Float64,1}\n",
    "y = fill(4.0, size)       # 1048576-element Array{Int64,1}:\n",
    "\n",
    "# DOT ADD two arrays\n",
    "# https://docs.julialang.org/en/v1/manual/functions/#man-vectorized\n",
    "\n",
    "y .+= x                 # add each element of x to each element of y\n",
    "\n",
    "# macBook M2 MAX (12 cores) 1.149 ms (2 allocations: 64 bytes)\n",
    "y[1] # show first element\n",
    "\n",
    "using Test\n",
    "@test all(y .== 6.0)"
   ]
  },
  {
   "cell_type": "markdown",
   "metadata": {},
   "source": [
    "## Single thread sequential add"
   ]
  },
  {
   "cell_type": "code",
   "execution_count": 7,
   "metadata": {
    "tags": []
   },
   "outputs": [
    {
     "data": {
      "text/plain": [
       "\u001b[32m\u001b[1mTest Passed\u001b[22m\u001b[39m"
      ]
     },
     "execution_count": 7,
     "metadata": {},
     "output_type": "execute_result"
    }
   ],
   "source": [
    "function sequential_add!(y, x)\n",
    "    for i in eachindex(y, x)\n",
    "        @inbounds y[i] += x[i]\n",
    "    end\n",
    "    return nothing\n",
    "end\n",
    "\n",
    "fill!(y, 4.0) # re-set the y array\n",
    "sequential_add!(y, x)\n",
    "@test all(y .== 6.0f0)"
   ]
  },
  {
   "cell_type": "markdown",
   "metadata": {},
   "source": [
    "### Parallelization using Threads"
   ]
  },
  {
   "cell_type": "code",
   "execution_count": 8,
   "metadata": {
    "tags": []
   },
   "outputs": [],
   "source": [
    "function parallel_add!(y, x)\n",
    "    Threads.@threads for i in eachindex(y, x)\n",
    "        @inbounds y[i] += x[i]\n",
    "    end\n",
    "    return nothing\n",
    "end\n",
    "\n",
    "fill!(y, 4.0) # re-set the y array\n",
    "parallel_add!(y, x)\n",
    "#@test all(y .== 6.0f0)"
   ]
  },
  {
   "cell_type": "code",
   "execution_count": 9,
   "metadata": {
    "tags": []
   },
   "outputs": [
    {
     "data": {
      "text/plain": [
       "\u001b[32m\u001b[1mTest Passed\u001b[22m\u001b[39m"
      ]
     },
     "execution_count": 9,
     "metadata": {},
     "output_type": "execute_result"
    }
   ],
   "source": [
    "function parallel_multiply!(y, x)\n",
    "    Threads.@threads for i in eachindex(y, x)\n",
    "        @inbounds y[i] *= x[i]\n",
    "    end\n",
    "    return nothing\n",
    "end\n",
    "\n",
    "fill!(y, 4.0) # re-set the y array\n",
    "parallel_multiply!(y, x)\n",
    "@test all(y .== 8.0f0)"
   ]
  },
  {
   "cell_type": "code",
   "execution_count": 10,
   "metadata": {
    "tags": []
   },
   "outputs": [
    {
     "data": {
      "text/plain": [
       "\u001b[32m\u001b[1mTest Passed\u001b[22m\u001b[39m"
      ]
     },
     "execution_count": 10,
     "metadata": {},
     "output_type": "execute_result"
    }
   ],
   "source": [
    "function parallel_division!(y, x)\n",
    "    Threads.@threads for i in eachindex(y, x)\n",
    "        @inbounds y[i] \\= x[i]\n",
    "    end\n",
    "    return nothing\n",
    "end\n",
    "\n",
    "fill!(y, 4.0) # re-set the y array\n",
    "parallel_division!(y, x)\n",
    "y[1]\n",
    "@test all(y .== 0.5f0)"
   ]
  },
  {
   "cell_type": "code",
   "execution_count": 18,
   "metadata": {
    "tags": []
   },
   "outputs": [
    {
     "name": "stdout",
     "output_type": "stream",
     "text": [
      "  243.750 μs (0 allocations: 0 bytes)\n"
     ]
    }
   ],
   "source": [
    "using BenchmarkTools\n",
    "fill!(y, 4.0) # re-set the y array\n",
    "@btime sequential_add!($y, $x)\n",
    "\n",
    "# fast to slow (best of 3 runs):\n",
    "# 237.375 μs (0 allocations: 0 bytes)  -- 2023 MacBook Pro M2 Max 14 inch - 7 threads \n",
    "# 1.162 ms (0 allocations: 0 bytes)  -- 2023 MacBook Pro M2 Max 14 inch - 12 threads\n",
    "# 1.162 ms (0 allocations: 0 bytes)  -- 2023 MacBook Pro M2 Max 14 inch - 10 threads\n",
    "# 243.584 μs (0 allocations: 0 bytes)  -- 2023 MacBook Pro M2 Max 14 inch - 6 threads \n",
    "# 243.375 μs (0 allocations: 0 bytes)  -- 2023 MacBook Pro M2 Max 14 inch - 8 threads\n",
    "\n",
    "# 1.220 ms (0 allocations: 0 bytes)  -- MacBook Pro M2 Max 14 inch - 1 thread\n",
    "# 1.477 ms (0 allocations: 0 bytes)  -- Predator Helios 300 Win 10\n",
    "# 1.853 ms (0 allocations: 0 bytes)  -- MacBook Pro Intel"
   ]
  },
  {
   "cell_type": "code",
   "execution_count": 21,
   "metadata": {
    "tags": []
   },
   "outputs": [
    {
     "name": "stdout",
     "output_type": "stream",
     "text": [
      "  59.333 μs (37 allocations: 3.06 KiB)\n"
     ]
    }
   ],
   "source": [
    "fill!(y, 4.0) # re-set the y array\n",
    "@btime parallel_add!($y, $x)\n",
    "\n",
    "# fast to slow (best of 3 runs):\n",
    "\n",
    "# 43.708 μs (48 allocations: 4.03 KiB)   -- 2023 MacBook Pro M2 Max 14 inch -- Threads.nthreads() 8\n",
    "# 52.000 μs (41 allocations: 3.52 KiB)   -- 2023 MacBook Pro M2 Max 14 inch -- Threads.nthreads() 7\n",
    "# 216.292 μs (36 allocations: 3.03 KiB)   -- 2023 MacBook Pro M2 Max 14 inch -- Threads.nthreads() 6\n",
    "\n",
    "# 58.459 μs (36 allocations: 3.03 KiB)   -- Predator Helios 300 Win 10 -- Threads.nthreads() 6\n",
    "# 660.600 μs (23 allocations: 2.72 KiB)   -- MacBook Pro -- Threads.nthreads() 4\n",
    "\n",
    "# 1.235 ms (7 allocations: 592 bytes)     -- MacBook Pro M2 Max 14 inch -- Threads.nthreads() 1\n",
    "# 1.482 ms (6 allocations: 944 bytes)     -- Predator Helios 300 Win 10 -- Threads.nthreads() 1\n",
    "\n",
    "# FAIL TO FINISH                          -- MacBook Pro M2 Max 14 inch -- Threads.nthreads() 10\n",
    "# FAIL TO FINISH                          -- MacBook Pro M2 Max 14 inch -- Threads.nthreads() 12"
   ]
  },
  {
   "cell_type": "code",
   "execution_count": 27,
   "metadata": {},
   "outputs": [
    {
     "name": "stdout",
     "output_type": "stream",
     "text": [
      "  0.000202 seconds (38 allocations: 3.094 KiB)\n"
     ]
    }
   ],
   "source": [
    "fill!(y, 4.0) # re-set the y array\n",
    "@time parallel_multiply!(y, x)\n",
    "\n",
    "# fast to slow (best of 3 runs):\n",
    "# 0.000202 seconds (38 allocations: 3.094 KiB) -- 2023 MacBook Pro M2 Max 14 inch -- Threads.nthreads() 6\n",
    "# 0.000209 seconds (44 allocations: 3.609 KiB) -- 2023 MacBook Pro M2 Max 14 inch -- Threads.nthreads() 7\n",
    "# 0.000242 seconds (51 allocations: 4.125 KiB) -- 2023 MacBook Pro M2 Max 14 inch -- Threads.nthreads() 8"
   ]
  },
  {
   "cell_type": "code",
   "execution_count": 33,
   "metadata": {
    "tags": []
   },
   "outputs": [
    {
     "name": "stdout",
     "output_type": "stream",
     "text": [
      "  0.000228 seconds (37 allocations: 3.062 KiB)\n"
     ]
    }
   ],
   "source": [
    "fill!(y, 4.0) # re-set the y array\n",
    "@time parallel_add!(y, x)\n",
    "\n",
    "\n",
    "# fast to slow (best of 3 runs):\n",
    "# 0.000212 seconds (44 allocations: 3.609 KiB)  -- 2023 MacBook Pro M2 Max 14 inch -- Threads.nthreads() 7\n",
    "# 0.000222 seconds (38 allocations: 3.094 KiB)  -- 2023 MacBook Pro M2 Max 14 inch -- Threads.nthreads() 6\n",
    "# 0.000298 seconds (51 allocations: 4.125 KiB)  -- 2023 MacBook Pro M2 Max 14 inch -- Threads.nthreads() 8"
   ]
  },
  {
   "cell_type": "code",
   "execution_count": 39,
   "metadata": {
    "tags": []
   },
   "outputs": [
    {
     "name": "stdout",
     "output_type": "stream",
     "text": [
      "  0.000358 seconds\n"
     ]
    }
   ],
   "source": [
    "fill!(y, 4.0) # re-set the y array\n",
    "@time sequential_add!(y, x)\n",
    "\n",
    "\n",
    "# fast to slow (best of 3 runs):\n",
    "# 0.000278 seconds  -- 2023 MacBook Pro M2 Max 14 inch -- Threads.nthreads() 7\n",
    "# 0.000295 seconds  -- 2023 MacBook Pro M2 Max 14 inch -- Threads.nthreads() 8\n",
    "# 0.000346 seconds  -- 2023 MacBook Pro M2 Max 14 inch -- Threads.nthreads() 6"
   ]
  },
  {
   "cell_type": "code",
   "execution_count": 42,
   "metadata": {
    "tags": []
   },
   "outputs": [
    {
     "name": "stdout",
     "output_type": "stream",
     "text": [
      "  0.000411 seconds (35 allocations: 3.000 KiB)\n"
     ]
    }
   ],
   "source": [
    "fill!(y, 4.0) # re-set the y array\n",
    "@time parallel_division!(y, x)\n",
    "\n",
    "\n",
    "\n",
    "# fast to slow (best of 3 runs):\n",
    "# 0.000200 seconds (37 allocations: 3.062 KiB) -- 2023 MacBook Pro M2 Max 14 inch -- Threads.nthreads() 6\n",
    "# 0.000218 seconds (46 allocations: 3.672 KiB) -- 2023 MacBook Pro M2 Max 14 inch -- Threads.nthreads() 7\n",
    "# 0.000203 seconds (53 allocations: 4.156 KiB) -- 2023 MacBook Pro M2 Max 14 inch -- Threads.nthreads() 8"
   ]
  },
  {
   "cell_type": "code",
   "execution_count": null,
   "metadata": {},
   "outputs": [],
   "source": []
  }
 ],
 "metadata": {
  "kernelspec": {
   "display_name": "Julia (6 threads) 1.9.0",
   "language": "julia",
   "name": "julia-_6-threads_-1.9"
  },
  "language_info": {
   "file_extension": ".jl",
   "mimetype": "application/julia",
   "name": "julia",
   "version": "1.9.0"
  },
  "toc": {
   "base_numbering": "1.0",
   "nav_menu": {},
   "number_sections": false,
   "sideBar": true,
   "skip_h1_title": false,
   "title_cell": "Table of Contents",
   "title_sidebar": "Contents",
   "toc_cell": true,
   "toc_position": {},
   "toc_section_display": true,
   "toc_window_display": true
  }
 },
 "nbformat": 4,
 "nbformat_minor": 4
}
