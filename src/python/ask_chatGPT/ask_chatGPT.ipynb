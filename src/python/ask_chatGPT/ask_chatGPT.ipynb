{
 "cells": [
  {
   "cell_type": "code",
   "execution_count": 2,
   "id": "4858d866-08f5-4ebc-91f0-22d26e75ad0a",
   "metadata": {
    "tags": []
   },
   "outputs": [
    {
     "name": "stdout",
     "output_type": "stream",
     "text": [
      "sk\n"
     ]
    }
   ],
   "source": [
    "#### GET OPENAI_API_KEY\n",
    "# pip install python-dotenv\n",
    "from dotenv import dotenv_values\n",
    "config = dotenv_values(\"../../../Uki.env\")\n",
    "OPENAI_API_KEY = config[\"OPENAI_API_KEY\"]\n",
    "print(OPENAI_API_KEY[0:2])"
   ]
  },
  {
   "cell_type": "code",
   "execution_count": null,
   "id": "1287f9fb-7198-4c3d-adf0-44dd97bec84d",
   "metadata": {},
   "outputs": [],
   "source": []
  }
 ],
 "metadata": {
  "kernelspec": {
   "display_name": "Python 3 (ipykernel)",
   "language": "python",
   "name": "python3"
  },
  "language_info": {
   "codemirror_mode": {
    "name": "ipython",
    "version": 3
   },
   "file_extension": ".py",
   "mimetype": "text/x-python",
   "name": "python",
   "nbconvert_exporter": "python",
   "pygments_lexer": "ipython3",
   "version": "3.11.4"
  }
 },
 "nbformat": 4,
 "nbformat_minor": 5
}
