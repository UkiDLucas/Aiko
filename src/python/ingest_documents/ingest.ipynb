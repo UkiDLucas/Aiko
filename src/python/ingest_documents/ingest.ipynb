{
 "cells": [
  {
   "cell_type": "markdown",
   "id": "351cc1e2-dbd5-4530-96c3-5a4752e55980",
   "metadata": {},
   "source": [
    "# Ingest Documents"
   ]
  },
  {
   "cell_type": "code",
   "execution_count": 17,
   "id": "3849c477-c8a9-4c2d-838b-972b3c85744e",
   "metadata": {
    "tags": []
   },
   "outputs": [],
   "source": [
    "#!/usr/bin/env /Users/uki_lucas/anaconda3/envs/env_AIKO_ingest\n",
    "# conda activate env_AIKO_ingest"
   ]
  },
  {
   "cell_type": "code",
   "execution_count": 2,
   "id": "b7e55620-c044-4595-9854-4a24f7ae9534",
   "metadata": {
    "tags": []
   },
   "outputs": [],
   "source": []
  },
  {
   "cell_type": "code",
   "execution_count": 24,
   "id": "74aab079-cd61-4e1a-8a0c-a4548a7a59e4",
   "metadata": {
    "tags": []
   },
   "outputs": [
    {
     "name": "stdout",
     "output_type": "stream",
     "text": [
      "PERSIST_DIRECTORY= chromadb_personal\n",
      "LLM_MODEL_TYPE= GPT4All\n",
      "LLM_MODEL_PATH= models/ggml-gpt4all-j-v1.3-groovy.bin\n",
      "EMBEDDINGS_MODEL_NAME= all-MiniLM-L6-v2\n",
      "MODEL_N_CTX= 1000\n"
     ]
    }
   ],
   "source": [
    "#### GET OPENAI_API_KEY\n",
    "# pip install python-dotenv\n",
    "from dotenv import dotenv_values\n",
    "config = dotenv_values(\"../../../AIKO.env\")\n",
    "\n",
    "PERSIST_DIRECTORY = config[\"PERSIST_DIRECTORY\"]\n",
    "print(\"PERSIST_DIRECTORY=\", PERSIST_DIRECTORY)\n",
    "\n",
    "LLM_MODEL_TYPE = config[\"LLM_MODEL_TYPE\"]\n",
    "print(\"LLM_MODEL_TYPE=\", LLM_MODEL_TYPE)\n",
    "\n",
    "LLM_MODEL_PATH = config[\"LLM_MODEL_PATH\"]\n",
    "print(\"LLM_MODEL_PATH=\", LLM_MODEL_PATH)\n",
    "\n",
    "# langchain.embeddings HuggingFaceEmbeddings\n",
    "EMBEDDINGS_MODEL_NAME = config[\"EMBEDDINGS_MODEL_NAME\"] \n",
    "print(\"EMBEDDINGS_MODEL_NAME=\", EMBEDDINGS_MODEL_NAME)\n",
    "\n",
    "MODEL_N_CTX = config[\"MODEL_N_CTX\"]\n",
    "print(\"MODEL_N_CTX=\", MODEL_N_CTX)"
   ]
  },
  {
   "cell_type": "code",
   "execution_count": 19,
   "id": "c9ea8afc-a16c-411d-968a-21b4d036fcf7",
   "metadata": {
    "tags": []
   },
   "outputs": [],
   "source": [
    "# pip install chromadb"
   ]
  },
  {
   "cell_type": "code",
   "execution_count": 23,
   "id": "93ef6460-fa4b-4345-a423-580937472ab3",
   "metadata": {
    "tags": []
   },
   "outputs": [],
   "source": [
    "def does_vectorstore_exist(persist_directory: str) -> bool:\n",
    "    \"\"\"\n",
    "    Checks if vectorstore exists\n",
    "    \"\"\"\n",
    "    if os.path.exists(os.path.join(persist_directory, 'index')):\n",
    "        if os.path.exists(os.path.join(persist_directory, 'chroma-collections.parquet')) and os.path.exists(os.path.join(persist_directory, 'chroma-embeddings.parquet')):\n",
    "            list_index_files = glob.glob(os.path.join(persist_directory, 'index/*.bin'))\n",
    "            list_index_files += glob.glob(os.path.join(persist_directory, 'index/*.pkl'))\n",
    "            # At least 3 documents are needed in a working vectorstore\n",
    "            if len(list_index_files) > 3:\n",
    "                return True\n",
    "    return False"
   ]
  },
  {
   "cell_type": "code",
   "execution_count": null,
   "id": "0d37109a-d939-4109-a66f-71947bf81e80",
   "metadata": {},
   "outputs": [],
   "source": []
  }
 ],
 "metadata": {
  "kernelspec": {
   "display_name": "Python 3 (ipykernel)",
   "language": "python",
   "name": "python3"
  },
  "language_info": {
   "codemirror_mode": {
    "name": "ipython",
    "version": 3
   },
   "file_extension": ".py",
   "mimetype": "text/x-python",
   "name": "python",
   "nbconvert_exporter": "python",
   "pygments_lexer": "ipython3",
   "version": "3.11.4"
  }
 },
 "nbformat": 4,
 "nbformat_minor": 5
}
