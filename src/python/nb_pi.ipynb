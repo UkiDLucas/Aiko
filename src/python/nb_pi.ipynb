{
 "cells": [
  {
   "cell_type": "markdown",
   "id": "a5b09b72-a186-4ad8-b1b1-d853f0bb46ae",
   "metadata": {
    "editable": true,
    "slideshow": {
     "slide_type": ""
    },
    "tags": []
   },
   "source": [
    "$$ π=4×(1 − \\frac{1}{3} + \\frac{1}{5} − \\frac{1}{7} + \\frac{1}{9} − \\frac{1}{11} + …) $$"
   ]
  },
  {
   "cell_type": "code",
   "execution_count": 2,
   "id": "ffd27873-ada2-40ed-8db9-1441b8eb5155",
   "metadata": {
    "editable": true,
    "slideshow": {
     "slide_type": ""
    },
    "tags": []
   },
   "outputs": [
    {
     "ename": "LoadError",
     "evalue": "SystemError: opening file \"/Users/uki_lucas/Library/CloudStorage/GoogleDrive-ukidlucas@gmail.com/My Drive/_REPOS/Aiko/src/julia/pi.jl\": No such file or directory",
     "output_type": "error",
     "traceback": [
      "SystemError: opening file \"/Users/uki_lucas/Library/CloudStorage/GoogleDrive-ukidlucas@gmail.com/My Drive/_REPOS/Aiko/src/julia/pi.jl\": No such file or directory",
      "",
      "Stacktrace:",
      "  [1] systemerror(p::String, errno::Int32; extrainfo::Nothing)",
      "    @ Base ./error.jl:176",
      "  [2] #systemerror#82",
      "    @ ./error.jl:175 [inlined]",
      "  [3] systemerror",
      "    @ ./error.jl:175 [inlined]",
      "  [4] open(fname::String; lock::Bool, read::Nothing, write::Nothing, create::Nothing, truncate::Nothing, append::Nothing)",
      "    @ Base ./iostream.jl:293",
      "  [5] open",
      "    @ ./iostream.jl:275 [inlined]",
      "  [6] open(f::Base.var\"#418#419\"{String}, args::String; kwargs::Base.Pairs{Symbol, Union{}, Tuple{}, NamedTuple{(), Tuple{}}})",
      "    @ Base ./io.jl:393",
      "  [7] open",
      "    @ ./io.jl:392 [inlined]",
      "  [8] read",
      "    @ ./io.jl:473 [inlined]",
      "  [9] _include(mapexpr::Function, mod::Module, _path::String)",
      "    @ Base ./loading.jl:1920",
      " [10] include(fname::String)",
      "    @ Base.MainInclude ./client.jl:478",
      " [11] top-level scope",
      "    @ In[2]:1"
     ]
    }
   ],
   "source": [
    "include(\"src/julia/pi.jl\")\n",
    "estimate_pi(99)"
   ]
  },
  {
   "cell_type": "code",
   "execution_count": 19,
   "id": "dfec63c2-a610-41b4-a3c3-468a930d8953",
   "metadata": {
    "editable": true,
    "slideshow": {
     "slide_type": ""
    },
    "tags": []
   },
   "outputs": [
    {
     "name": "stdout",
     "output_type": "stream",
     "text": [
      "\u001b[0m\u001b[1mTest Summary:     | \u001b[22m\u001b[32m\u001b[1mPass  \u001b[22m\u001b[39m\u001b[36m\u001b[1mTotal  \u001b[22m\u001b[39m\u001b[0m\u001b[1mTime\u001b[22m\n",
      "estimate_pi Tests | \u001b[32m   3  \u001b[39m\u001b[36m    3  \u001b[39m\u001b[0m0.0s\n"
     ]
    },
    {
     "data": {
      "text/plain": [
       "Test.DefaultTestSet(\"estimate_pi Tests\", Any[], 3, false, false, true, 1.685477163927074e9, 1.685477163928628e9, false)"
      ]
     },
     "execution_count": 19,
     "metadata": {},
     "output_type": "execute_result"
    }
   ],
   "source": [
    "using Test\n",
    "@testset \"estimate_pi Tests\" begin\n",
    "    # estimate_pi(100_000_000_000) # takes forever ~= 3.141592653598537\n",
    "    @test 3.141592653598537 ≤ estimate_pi(100) ≤ 3.1515\n",
    "    @test 3.141592653598537 ≤ estimate_pi(1_000) ≤ 3.1426\n",
    "    @test 3.141592653598537 ≤ estimate_pi(1_000_000) ≤ 3.141594\n",
    "end"
   ]
  },
  {
   "cell_type": "code",
   "execution_count": 11,
   "id": "05dfa0c6-9833-4a99-a1a5-b36425ae96ed",
   "metadata": {
    "editable": true,
    "slideshow": {
     "slide_type": ""
    },
    "tags": []
   },
   "outputs": [
    {
     "data": {
      "text/plain": [
       "3.1415927535897814"
      ]
     },
     "execution_count": 11,
     "metadata": {},
     "output_type": "execute_result"
    }
   ],
   "source": [
    "estimate_pi(10_000_000)"
   ]
  },
  {
   "cell_type": "code",
   "execution_count": null,
   "id": "feed3a45-40ea-48b4-9669-c69ce8ad5a76",
   "metadata": {
    "editable": true,
    "slideshow": {
     "slide_type": ""
    },
    "tags": []
   },
   "outputs": [],
   "source": [
    "3.141592653598537"
   ]
  },
  {
   "cell_type": "code",
   "execution_count": null,
   "id": "34072016-a207-4fa1-8a02-6aafe27ca16f",
   "metadata": {
    "editable": true,
    "slideshow": {
     "slide_type": ""
    },
    "tags": []
   },
   "outputs": [],
   "source": []
  }
 ],
 "metadata": {
  "kernelspec": {
   "display_name": "Julia 1.9.0",
   "language": "julia",
   "name": "julia-1.9"
  },
  "language_info": {
   "file_extension": ".jl",
   "mimetype": "application/julia",
   "name": "julia",
   "version": "1.9.0"
  },
  "toc": {
   "base_numbering": 1
  }
 },
 "nbformat": 4,
 "nbformat_minor": 5
}
