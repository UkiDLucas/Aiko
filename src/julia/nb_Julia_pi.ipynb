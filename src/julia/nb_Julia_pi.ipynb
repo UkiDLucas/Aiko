{
 "cells": [
  {
   "cell_type": "markdown",
   "metadata": {},
   "source": [
    "# &pi; in Julia\n",
    "\n",
    "original REPO:\n",
    "https://github.com/simonbyrne/Pi.jl\n",
    " \n",
    "*([Simon Byrne](https://github.com/simonbyrne))*\n",
    "\n",
    "Like most technical languages, Julia provides a variable constant for &pi;. However Julia's handling is a bit special."
   ]
  },
  {
   "cell_type": "code",
   "execution_count": 1,
   "metadata": {
    "tags": []
   },
   "outputs": [
    {
     "data": {
      "text/plain": [
       "π = 3.1415926535897..."
      ]
     },
     "execution_count": 1,
     "metadata": {},
     "output_type": "execute_result"
    }
   ],
   "source": [
    "pi"
   ]
  },
  {
   "cell_type": "markdown",
   "metadata": {},
   "source": [
    "It can also be accessed via the unicode symbol (you can get it at the REPL or in a notebook via the TeX completion `\\pi` followed by a tab)"
   ]
  },
  {
   "cell_type": "code",
   "execution_count": 2,
   "metadata": {
    "collapsed": false,
    "jupyter": {
     "outputs_hidden": false
    },
    "tags": []
   },
   "outputs": [
    {
     "data": {
      "text/plain": [
       "π = 3.1415926535897..."
      ]
     },
     "execution_count": 2,
     "metadata": {},
     "output_type": "execute_result"
    }
   ],
   "source": [
    "π"
   ]
  },
  {
   "cell_type": "markdown",
   "metadata": {},
   "source": [
    "You'll notice that it doesn't print like an ordinary floating point number: that's because it isn't one."
   ]
  },
  {
   "cell_type": "code",
   "execution_count": 3,
   "metadata": {
    "collapsed": false,
    "jupyter": {
     "outputs_hidden": false
    },
    "tags": []
   },
   "outputs": [
    {
     "data": {
      "text/plain": [
       "Irrational{:π}"
      ]
     },
     "execution_count": 3,
     "metadata": {},
     "output_type": "execute_result"
    }
   ],
   "source": [
    "typeof(pi)"
   ]
  },
  {
   "cell_type": "markdown",
   "metadata": {},
   "source": [
    "&pi; and a few other irrational constants are instead stored as special `Irrational` values, rather than being rounded to `Float64`. These act like ordinary numeric values, except that they can are converted automatically to any floating point type without any intermediate rounding:"
   ]
  },
  {
   "cell_type": "code",
   "execution_count": 4,
   "metadata": {
    "collapsed": false,
    "jupyter": {
     "outputs_hidden": false
    }
   },
   "outputs": [
    {
     "data": {
      "text/plain": [
       "4.141592653589793"
      ]
     },
     "execution_count": 4,
     "metadata": {},
     "output_type": "execute_result"
    }
   ],
   "source": [
    "1 + pi # integers are promoted to Float64 by default"
   ]
  },
  {
   "cell_type": "code",
   "execution_count": 5,
   "metadata": {
    "collapsed": false,
    "jupyter": {
     "outputs_hidden": false
    }
   },
   "outputs": [
    {
     "data": {
      "text/plain": [
       "4.141593f0"
      ]
     },
     "execution_count": 5,
     "metadata": {},
     "output_type": "execute_result"
    }
   ],
   "source": [
    "Float32(1) + pi # Float32"
   ]
  },
  {
   "cell_type": "markdown",
   "metadata": {},
   "source": [
    "This is particularly useful for use with arbitrary-precision `BigFloat`s, as &pi; can be evaluated to full precision (rather than be truncated to `Float64` and converted back)."
   ]
  },
  {
   "cell_type": "code",
   "execution_count": 6,
   "metadata": {
    "collapsed": false,
    "jupyter": {
     "outputs_hidden": false
    }
   },
   "outputs": [
    {
     "data": {
      "text/plain": [
       "4.141592653589793238462643383279502884197169399375105820974944592307816406286198"
      ]
     },
     "execution_count": 6,
     "metadata": {},
     "output_type": "execute_result"
    }
   ],
   "source": [
    "BigFloat(1) + pi # 256 bits by default"
   ]
  },
  {
   "cell_type": "markdown",
   "metadata": {},
   "source": [
    "If &pi; were stored as a `Float64`, we would instead get"
   ]
  },
  {
   "cell_type": "code",
   "execution_count": 7,
   "metadata": {
    "collapsed": false,
    "jupyter": {
     "outputs_hidden": false
    }
   },
   "outputs": [
    {
     "data": {
      "text/plain": [
       "4.141592653589793115997963468544185161590576171875"
      ]
     },
     "execution_count": 7,
     "metadata": {},
     "output_type": "execute_result"
    }
   ],
   "source": [
    "BigFloat(1) + Float64(pi)"
   ]
  },
  {
   "cell_type": "markdown",
   "metadata": {},
   "source": [
    "In fact `BigFloat` (which uses the [MPFR](http://www.mpfr.org) library) will compute &pi; on demand to the current precision, which is set via `setprecision`. This provides an easy way to get its digits: "
   ]
  },
  {
   "cell_type": "code",
   "execution_count": 8,
   "metadata": {
    "collapsed": false,
    "jupyter": {
     "outputs_hidden": false
    }
   },
   "outputs": [
    {
     "data": {
      "text/plain": [
       "3.141592653589793238462643383279502884197169399375105820974944592307816406286208998628034825342117067982148086513282306647093844609550582231725359408128481117450284102701938521105559644622948954930381964428810975665933446128475648233786783165271201909145648566923460348610454326648213393607260249141273724586997"
      ]
     },
     "execution_count": 8,
     "metadata": {},
     "output_type": "execute_result"
    }
   ],
   "source": [
    "# to 1024 bits\n",
    "setprecision(BigFloat, 1024) do \n",
    "    BigFloat(pi)\n",
    "end"
   ]
  },
  {
   "cell_type": "markdown",
   "metadata": {},
   "source": [
    "The last few digits may be incorrect due to the conversion from the internal binary format of `BigFloat` to the decimal representation used for printing."
   ]
  },
  {
   "cell_type": "markdown",
   "metadata": {},
   "source": [
    "Another neat property of `Irrational`s is that inequalities are correct:"
   ]
  },
  {
   "cell_type": "code",
   "execution_count": 9,
   "metadata": {
    "collapsed": false,
    "jupyter": {
     "outputs_hidden": false
    }
   },
   "outputs": [
    {
     "data": {
      "text/plain": [
       "true"
      ]
     },
     "execution_count": 9,
     "metadata": {},
     "output_type": "execute_result"
    }
   ],
   "source": [
    "Float64(pi) < pi < nextfloat(Float64(pi))"
   ]
  },
  {
   "cell_type": "markdown",
   "metadata": {},
   "source": [
    "## &pi; via inline assembly instructions\n",
    "*([Simon Byrne](https://github.com/simonbyrne))*\n",
    "\n",
    "Julia provides a very low-level `llvmcall` interface, which allows the user to directly write [LLVM intermediate representation](http://llvm.org/docs/LangRef.html), including the use of inline assembly. The following snippet calls the `fldpi` instruction (\"**f**loating point **l**oa**d** **pi**\") which loads the constant &pi; onto the floating point register stack (this works only on x86 and x86_64 architectures)"
   ]
  },
  {
   "cell_type": "code",
   "execution_count": 10,
   "metadata": {
    "collapsed": false,
    "jupyter": {
     "outputs_hidden": false
    }
   },
   "outputs": [
    {
     "data": {
      "text/plain": [
       "asm_pi (generic function with 1 method)"
      ]
     },
     "execution_count": 10,
     "metadata": {},
     "output_type": "execute_result"
    }
   ],
   "source": [
    "function asm_pi()\n",
    "    Base.llvmcall(\n",
    "    \"\"\" %pi = call double asm \"fldpi\", \"={st}\"()\n",
    "        ret double %pi\"\"\", \n",
    "    Float64, Tuple{})\n",
    "end"
   ]
  },
  {
   "cell_type": "code",
   "execution_count": 11,
   "metadata": {
    "collapsed": false,
    "jupyter": {
     "outputs_hidden": false
    }
   },
   "outputs": [
    {
     "data": {
      "text/plain": [
       "3.141592653589793"
      ]
     },
     "execution_count": 11,
     "metadata": {},
     "output_type": "execute_result"
    }
   ],
   "source": [
    "asm_pi()"
   ]
  },
  {
   "cell_type": "markdown",
   "metadata": {},
   "source": [
    "We can look at the actual resulting code that is generated:"
   ]
  },
  {
   "cell_type": "code",
   "execution_count": 12,
   "metadata": {
    "collapsed": false,
    "jupyter": {
     "outputs_hidden": false
    }
   },
   "outputs": [
    {
     "name": "stdout",
     "output_type": "stream",
     "text": [
      "\t\u001b[0m.section\t\u001b[0m__TEXT\u001b[0m,\u001b[0m__text\u001b[0m,\u001b[0mregular\u001b[0m,\u001b[0mpure_instructions\n",
      "\t\u001b[0m.build_version \u001b[0mmacos\u001b[0m, \u001b[33m13\u001b[39m\u001b[0m, \u001b[33m0\u001b[39m\n",
      "\t\u001b[0m.globl\t\u001b[0m_julia_asm_pi_1235              \u001b[0m## \u001b[0m-- \u001b[0mBegin \u001b[0mfunction \u001b[0mjulia_asm_pi_1235\n",
      "\t\u001b[0m.p2align\t\u001b[33m4\u001b[39m\u001b[0m, \u001b[33m0x90\u001b[39m\n",
      "\u001b[91m_julia_asm_pi_1235:\u001b[39m                     \u001b[0m## \u001b[0m@julia_asm_pi_1235\n",
      "\u001b[90m; ┌ @ In[10]:1 within `asm_pi`\u001b[39m\n",
      "\t\u001b[0m.cfi_startproc\n",
      "\u001b[0m## \u001b[0m%bb.0\u001b[0m:                               \u001b[0m## \u001b[0m%top\n",
      "\u001b[90m; │ @ In[10]:2 within `asm_pi`\u001b[39m\n",
      "\t\u001b[0m## \u001b[0mInlineAsm \u001b[0mStart\n",
      "\t\u001b[96m\u001b[1mfldpi\u001b[22m\u001b[39m\n",
      "\t\u001b[0m## \u001b[0mInlineAsm \u001b[0mEnd\n",
      "\t\u001b[96m\u001b[1mfstpl\u001b[22m\u001b[39m\t\u001b[33m-8\u001b[39m\u001b[33m(\u001b[39m\u001b[0m%rsp\u001b[33m)\u001b[39m\n",
      "\t\u001b[96m\u001b[1mmovsd\u001b[22m\u001b[39m\t\u001b[33m-8\u001b[39m\u001b[33m(\u001b[39m\u001b[0m%rsp\u001b[33m)\u001b[39m\u001b[0m, \u001b[0m%xmm0                 \u001b[0m## \u001b[0mxmm0 \u001b[0m= \u001b[0mmem\u001b[33m[\u001b[39m\u001b[33m0\u001b[39m\u001b[33m]\u001b[39m\u001b[0m,\u001b[0mzero\n",
      "\t\u001b[96m\u001b[1mretq\u001b[22m\u001b[39m\n",
      "\t\u001b[0m.cfi_endproc\n",
      "\u001b[90m; └\u001b[39m\n",
      "                                        \u001b[0m## \u001b[0m-- \u001b[0mEnd \u001b[0mfunction\n",
      "\u001b[0m.subsections_via_symbols\n"
     ]
    }
   ],
   "source": [
    "@code_native asm_pi()"
   ]
  },
  {
   "cell_type": "markdown",
   "metadata": {},
   "source": [
    "If you're wondering what the rest of these instructions are doing:\n",
    "\n",
    "1. the `pushq` and `movq` adds to the [call stack frame](https://en.wikipedia.org/wiki/Call_stack).\n",
    "2. `fldpi` pushes &pi; to the x87 floating point register stack\n",
    "  - x87 is the older legacy floating point instruction set dating back to the original [Intel 8087 coprocessor](https://en.wikipedia.org/wiki/Intel_8087).\n",
    "3. `fstpl` and `movsd` moves the value to the SSE floating point register `xmm0`\n",
    "  - Julia, like most modern software, uses the newer SSE instruction set for its floating point operations. This also allows us to take advantage of things like [SIMD operations](https://en.wikipedia.org/wiki/SIMD).\n",
    "4. `popq` and `retq` pops the call stack frame."
   ]
  },
  {
   "cell_type": "markdown",
   "metadata": {
    "deletable": true,
    "editable": true
   },
   "source": [
    "## &pi; using a Taylor series expansions\n",
    "*([Luis Benet](https://github.com/lbenet), Instituto de Ciencias Físicas, Universidad Nacional Autónoma de México (UNAM))*\n",
    "\n",
    "This will demonstrate how to evaluate &pi; using various Taylor series expansions via the [TaylorSeries.jl](https://github.com/JuliaDiff/TaylorSeries.jl) package."
   ]
  },
  {
   "cell_type": "code",
   "execution_count": 13,
   "metadata": {
    "collapsed": false,
    "deletable": true,
    "editable": true,
    "jupyter": {
     "outputs_hidden": false
    }
   },
   "outputs": [
    {
     "ename": "LoadError",
     "evalue": "ArgumentError: Package TaylorSeries not found in current path.\n- Run `import Pkg; Pkg.add(\"TaylorSeries\")` to install the TaylorSeries package.",
     "output_type": "error",
     "traceback": [
      "ArgumentError: Package TaylorSeries not found in current path.\n- Run `import Pkg; Pkg.add(\"TaylorSeries\")` to install the TaylorSeries package.",
      "",
      "Stacktrace:",
      " [1] macro expansion",
      "   @ ./loading.jl:1595 [inlined]",
      " [2] macro expansion",
      "   @ ./lock.jl:267 [inlined]",
      " [3] require(into::Module, mod::Symbol)",
      "   @ Base ./loading.jl:1576"
     ]
    }
   ],
   "source": [
    "using TaylorSeries"
   ]
  },
  {
   "cell_type": "markdown",
   "metadata": {
    "deletable": true,
    "editable": true
   },
   "source": [
    "### Madhava's formula\n",
    "\n",
    "One of the standard trigonmetric identities is\n",
    "$$ \\tan\\left( \\frac{\\pi}{6} \\right) = \\frac{1}{\\sqrt{3}}. $$\n",
    "\n",
    "Therefore, by taking the Taylor expansion of $6 \\arctan(x)$ around 0 we may obtain the value of $\\pi$, by evaluating it at $1/\\sqrt{3}$, a value which is within the radius of convergence."
   ]
  },
  {
   "cell_type": "markdown",
   "metadata": {
    "deletable": true,
    "editable": true
   },
   "source": [
    "We obtain the Taylor series of order 37th, using `BigFloat`s:"
   ]
  },
  {
   "cell_type": "code",
   "execution_count": 14,
   "metadata": {
    "collapsed": false,
    "deletable": true,
    "editable": true,
    "jupyter": {
     "outputs_hidden": false
    }
   },
   "outputs": [
    {
     "ename": "LoadError",
     "evalue": "UndefVarError: `Taylor1` not defined",
     "output_type": "error",
     "traceback": [
      "UndefVarError: `Taylor1` not defined",
      "",
      "Stacktrace:",
      " [1] top-level scope",
      "   @ In[14]:1"
     ]
    }
   ],
   "source": [
    "series1 = 6atan( Taylor1(BigFloat, 37) )\n",
    "convert(Taylor1{Rational{BigInt}},series1)"
   ]
  },
  {
   "cell_type": "markdown",
   "metadata": {
    "deletable": true,
    "editable": true
   },
   "source": [
    "Note that the series above has only odd powers, so we will be using in this case 18 coefficients."
   ]
  },
  {
   "cell_type": "markdown",
   "metadata": {
    "deletable": true,
    "editable": true
   },
   "source": [
    "Evaluating that expression in $1/\\sqrt{3}$ we get"
   ]
  },
  {
   "cell_type": "code",
   "execution_count": 15,
   "metadata": {
    "collapsed": false,
    "deletable": true,
    "editable": true,
    "jupyter": {
     "outputs_hidden": false
    }
   },
   "outputs": [
    {
     "ename": "LoadError",
     "evalue": "UndefVarError: `series1` not defined",
     "output_type": "error",
     "traceback": [
      "UndefVarError: `series1` not defined",
      "",
      "Stacktrace:",
      " [1] top-level scope",
      "   @ In[15]:1"
     ]
    }
   ],
   "source": [
    "pi_approx1 = evaluate(series1, 1/sqrt(big(3)))"
   ]
  },
  {
   "cell_type": "markdown",
   "metadata": {
    "deletable": true,
    "editable": true
   },
   "source": [
    "Then, the 37th order Taylor expansion yields a value which differs from $\\pi$ in:"
   ]
  },
  {
   "cell_type": "code",
   "execution_count": 16,
   "metadata": {
    "collapsed": false,
    "deletable": true,
    "editable": true,
    "jupyter": {
     "outputs_hidden": false
    }
   },
   "outputs": [
    {
     "ename": "LoadError",
     "evalue": "UndefVarError: `pi_approx1` not defined",
     "output_type": "error",
     "traceback": [
      "UndefVarError: `pi_approx1` not defined",
      "",
      "Stacktrace:",
      " [1] top-level scope",
      "   @ In[16]:1"
     ]
    }
   ],
   "source": [
    "abs(pi - pi_approx1)"
   ]
  },
  {
   "cell_type": "markdown",
   "metadata": {
    "deletable": true,
    "editable": true
   },
   "source": [
    "To obtain more accurate results, we may simply increase the order of the expansion:"
   ]
  },
  {
   "cell_type": "code",
   "execution_count": 17,
   "metadata": {
    "collapsed": false,
    "deletable": true,
    "editable": true,
    "jupyter": {
     "outputs_hidden": false
    }
   },
   "outputs": [
    {
     "ename": "LoadError",
     "evalue": "UndefVarError: `Taylor1` not defined",
     "output_type": "error",
     "traceback": [
      "UndefVarError: `Taylor1` not defined",
      "",
      "Stacktrace:",
      " [1] top-level scope",
      "   @ In[17]:1"
     ]
    }
   ],
   "source": [
    "series2 = 6atan( Taylor1(BigFloat,99) ) # 49 coefficients of the series\n",
    "pi_approx2 = evaluate(series2, 1/sqrt(BigInt(3)))"
   ]
  },
  {
   "cell_type": "code",
   "execution_count": 18,
   "metadata": {
    "collapsed": false,
    "deletable": true,
    "editable": true,
    "jupyter": {
     "outputs_hidden": false
    }
   },
   "outputs": [
    {
     "ename": "LoadError",
     "evalue": "UndefVarError: `pi_approx2` not defined",
     "output_type": "error",
     "traceback": [
      "UndefVarError: `pi_approx2` not defined",
      "",
      "Stacktrace:",
      " [1] top-level scope",
      "   @ In[18]:1"
     ]
    }
   ],
   "source": [
    "abs(pi - pi_approx2)"
   ]
  },
  {
   "cell_type": "markdown",
   "metadata": {
    "deletable": true,
    "editable": true
   },
   "source": [
    "This formulation is one of the [*Madhava* or *Gregory–Leibniz series*](https://en.wikipedia.org/wiki/Madhava_series#Another_formula_for_the_circumference_of_a_circle):\n",
    "\n",
    "\\begin{equation}\n",
    "\\pi = 6 \\sum_{n=0}^{\\infty} (-1)^n \\frac{(1/\\sqrt{3})^{2n+1}}{2n+1}.\n",
    "\\end{equation}"
   ]
  },
  {
   "cell_type": "markdown",
   "metadata": {
    "deletable": true,
    "editable": true
   },
   "source": [
    "### Machin's approach\n",
    "\n",
    "Following the same idea, [John Machin](https://en.wikipedia.org/wiki/John_Machin#Formula) derived an algorithm which converges much faster, using the identity\n",
    "\n",
    "\\begin{equation}\n",
    "\\frac{\\pi}{4} = 4 \\arctan\\left(\\frac{1}{5}\\right) - \\arctan\\left(\\frac{1}{239}\\right).\n",
    "\\end{equation}"
   ]
  },
  {
   "cell_type": "markdown",
   "metadata": {
    "deletable": true,
    "editable": true
   },
   "source": [
    "Following what we did above, using again a 37th Taylor expansion:"
   ]
  },
  {
   "cell_type": "code",
   "execution_count": 19,
   "metadata": {
    "collapsed": false,
    "deletable": true,
    "editable": true,
    "jupyter": {
     "outputs_hidden": false
    }
   },
   "outputs": [
    {
     "ename": "LoadError",
     "evalue": "UndefVarError: `Taylor1` not defined",
     "output_type": "error",
     "traceback": [
      "UndefVarError: `Taylor1` not defined",
      "",
      "Stacktrace:",
      " [1] top-level scope",
      "   @ In[19]:1"
     ]
    }
   ],
   "source": [
    "ser = atan( Taylor1(BigFloat, 37) )\n",
    "pi_approx3 = 4*( 4*evaluate(ser, 1/big(5)) - evaluate(ser, 1/big(239)) )"
   ]
  },
  {
   "cell_type": "code",
   "execution_count": 20,
   "metadata": {
    "collapsed": false,
    "deletable": true,
    "editable": true,
    "jupyter": {
     "outputs_hidden": false
    }
   },
   "outputs": [
    {
     "ename": "LoadError",
     "evalue": "UndefVarError: `pi_approx3` not defined",
     "output_type": "error",
     "traceback": [
      "UndefVarError: `pi_approx3` not defined",
      "",
      "Stacktrace:",
      " [1] top-level scope",
      "   @ In[20]:1"
     ]
    }
   ],
   "source": [
    "abs(pi - pi_approx3)"
   ]
  },
  {
   "cell_type": "markdown",
   "metadata": {},
   "source": [
    "## Finding guaranteed bounds on &pi;\n",
    "*([David P. Sanders](http://sistemas.fciencias.unam.mx/~dsanders/),  Department of Physics, Faculty of Sciences, National University of Mexico (UNAM)*) \n",
    "\n",
    "### Using standard floating-point arithmetic "
   ]
  },
  {
   "cell_type": "markdown",
   "metadata": {},
   "source": [
    "We will calculate *guaranteed* (i.e., *validated*, or mathematically rigorous) bounds on $\\pi$ using just floating-point arithmetic. This requires \"directed rounding\", i.e. the ability to control in which direction floating-point operations are rounded.\n",
    "\n",
    "This is based on the book [*Validated Numerics*](http://press.princeton.edu/titles/9488.html) (Princeton, 2011) by [Warwick Tucker](http://www2.math.uu.se/~warwick/CAPA/warwick/warwick.html)."
   ]
  },
  {
   "cell_type": "markdown",
   "metadata": {},
   "source": [
    "Consider the infinite series\n",
    "\n",
    "$$ S := \\sum_{n=1}^\\infty \\frac{1}{n^2},$$\n",
    "\n",
    "whose exact value is [known](http://en.wikipedia.org/wiki/Basel_problem) to be $S = \\frac{\\pi^2}{6}$.\n",
    "Thus, if finding guaranteed bounds on $S$ will give guaranteed bounds on $\\pi$. \n",
    "\n",
    "The idea is to split $S$ up into two parts, $S = S_N + T_N$, where\n",
    "$ S_N := \\sum_{n=1}^N \\frac{1}{n^2}$ contains the first $N$ terms, \n",
    "and $T_N := S - S_N = \\sum_{n=N+1}^\\infty \\frac{1}{n^2}$ contains the rest (an infinite number of terms).\n",
    "\n",
    "We will evalute $S_N$ numerically, and use the following analytical bound for $T_N$:\n",
    "\n",
    "$$\\frac{1}{N+1} \\le T_N \\le \\frac{1}{N}$$.\n",
    "\n",
    "This is obtained by approximating the sum in $T_N$ using integrals from below and above:\n",
    "\n",
    "$$\\int_{x=N+1}^\\infty \\frac{1}{x^2} dx \\le T_N \\le \\int_{x=N}^\\infty \\frac{1}{x^2} dx.$$"
   ]
  },
  {
   "cell_type": "markdown",
   "metadata": {},
   "source": [
    "$S_N$ may be calculated easily by summing either forwards or backwards:"
   ]
  },
  {
   "cell_type": "code",
   "execution_count": 21,
   "metadata": {
    "collapsed": false,
    "jupyter": {
     "outputs_hidden": false
    }
   },
   "outputs": [
    {
     "data": {
      "text/plain": [
       "reverse_sum (generic function with 2 methods)"
      ]
     },
     "execution_count": 21,
     "metadata": {},
     "output_type": "execute_result"
    }
   ],
   "source": [
    "function forward_sum(N, T=Float64)\n",
    "    total = zero(T)\n",
    "    for i in 1:N\n",
    "        total += one(T) / (i^2)\n",
    "    end\n",
    "    total\n",
    "end\n",
    "\n",
    "function reverse_sum(N, T=Float64)\n",
    "    total = zero(T)\n",
    "    for i in N:-1:1\n",
    "        total += one(T) / (i^2)\n",
    "    end\n",
    "    total\n",
    "end"
   ]
  },
  {
   "cell_type": "markdown",
   "metadata": {},
   "source": [
    "To find *rigorous* bounds for $S_N$, we use \"directed rounding\", that is, we round downwards for the lower bound and  upwards for the upper bound:"
   ]
  },
  {
   "cell_type": "code",
   "execution_count": 22,
   "metadata": {
    "collapsed": false,
    "jupyter": {
     "outputs_hidden": false
    }
   },
   "outputs": [
    {
     "ename": "LoadError",
     "evalue": "MethodError: no method matching setrounding(::Type{Float64}, ::RoundingMode{:Down})\n\n\u001b[0mClosest candidates are:\n\u001b[0m  setrounding(\u001b[91m::Type{BigFloat}\u001b[39m, ::RoundingMode)\n\u001b[0m\u001b[90m   @\u001b[39m \u001b[90mBase\u001b[39m \u001b[90m\u001b[4mmpfr.jl:134\u001b[24m\u001b[39m\n",
     "output_type": "error",
     "traceback": [
      "MethodError: no method matching setrounding(::Type{Float64}, ::RoundingMode{:Down})\n\n\u001b[0mClosest candidates are:\n\u001b[0m  setrounding(\u001b[91m::Type{BigFloat}\u001b[39m, ::RoundingMode)\n\u001b[0m\u001b[90m   @\u001b[39m \u001b[90mBase\u001b[39m \u001b[90m\u001b[4mmpfr.jl:134\u001b[24m\u001b[39m\n",
      "",
      "Stacktrace:",
      " [1] setrounding(f::var\"#5#6\", #unused#::Type{Float64}, rounding::RoundingMode{:Down})",
      "   @ Base.Rounding ./rounding.jl:181",
      " [2] top-level scope",
      "   @ In[22]:3"
     ]
    }
   ],
   "source": [
    "N = 10^6\n",
    "\n",
    "lowerbound_S_N = \n",
    "    setrounding(Float64, RoundDown) do\n",
    "        forward_sum(N)\n",
    "    end\n",
    "\n",
    "upperbound_S_N = \n",
    "    setrounding(Float64, RoundUp) do\n",
    "        forward_sum(N)\n",
    "    end\n",
    "\n",
    "(lowerbound_S_N, upperbound_S_N)"
   ]
  },
  {
   "cell_type": "markdown",
   "metadata": {},
   "source": [
    "We incorporate the respective bound on $T_N$ to obtain the bounds on $S$, and hence on $\\pi$:"
   ]
  },
  {
   "cell_type": "code",
   "execution_count": 23,
   "metadata": {
    "collapsed": false,
    "jupyter": {
     "outputs_hidden": false
    }
   },
   "outputs": [
    {
     "ename": "LoadError",
     "evalue": "MethodError: no method matching setrounding(::Type{Float64}, ::RoundingMode{:Down})\n\n\u001b[0mClosest candidates are:\n\u001b[0m  setrounding(\u001b[91m::Type{BigFloat}\u001b[39m, ::RoundingMode)\n\u001b[0m\u001b[90m   @\u001b[39m \u001b[90mBase\u001b[39m \u001b[90m\u001b[4mmpfr.jl:134\u001b[24m\u001b[39m\n",
     "output_type": "error",
     "traceback": [
      "MethodError: no method matching setrounding(::Type{Float64}, ::RoundingMode{:Down})\n\n\u001b[0mClosest candidates are:\n\u001b[0m  setrounding(\u001b[91m::Type{BigFloat}\u001b[39m, ::RoundingMode)\n\u001b[0m\u001b[90m   @\u001b[39m \u001b[90mBase\u001b[39m \u001b[90m\u001b[4mmpfr.jl:134\u001b[24m\u001b[39m\n",
      "",
      "Stacktrace:",
      " [1] setrounding(f::var\"#7#8\", #unused#::Type{Float64}, rounding::RoundingMode{:Down})",
      "   @ Base.Rounding ./rounding.jl:181",
      " [2] top-level scope",
      "   @ In[23]:3"
     ]
    }
   ],
   "source": [
    "N = 10^6\n",
    "\n",
    "lower_π =\n",
    "    setrounding(Float64, RoundDown) do\n",
    "        lower_bound = forward_sum(N) + 1/(N+1)\n",
    "        sqrt(6 * lower_bound)\n",
    "    end\n",
    "\n",
    "upper_π = \n",
    "    setrounding(Float64, RoundUp) do\n",
    "        upper_bound = forward_sum(N) + 1/N\n",
    "        sqrt(6 * upper_bound)\n",
    "    end\n",
    "\n",
    "(lower_π, upper_π, lowerbound_S_N)"
   ]
  },
  {
   "cell_type": "code",
   "execution_count": 24,
   "metadata": {
    "collapsed": false,
    "jupyter": {
     "outputs_hidden": false
    }
   },
   "outputs": [
    {
     "ename": "LoadError",
     "evalue": "UndefVarError: `upper_π` not defined",
     "output_type": "error",
     "traceback": [
      "UndefVarError: `upper_π` not defined",
      "",
      "Stacktrace:",
      " [1] top-level scope",
      "   @ In[24]:1"
     ]
    }
   ],
   "source": [
    "upper_π - lower_π"
   ]
  },
  {
   "cell_type": "markdown",
   "metadata": {},
   "source": [
    "We may check that the true value of $\\pi$ is indeed contained in the interval:"
   ]
  },
  {
   "cell_type": "code",
   "execution_count": 25,
   "metadata": {
    "collapsed": false,
    "jupyter": {
     "outputs_hidden": false
    }
   },
   "outputs": [
    {
     "ename": "LoadError",
     "evalue": "UndefVarError: `lower_π` not defined",
     "output_type": "error",
     "traceback": [
      "UndefVarError: `lower_π` not defined",
      "",
      "Stacktrace:",
      " [1] top-level scope",
      "   @ In[25]:1"
     ]
    }
   ],
   "source": [
    "lower_π < pi < upper_π"
   ]
  },
  {
   "cell_type": "markdown",
   "metadata": {},
   "source": [
    "Summing in the opposite direction turns out to give a more accurate answer:"
   ]
  },
  {
   "cell_type": "code",
   "execution_count": 26,
   "metadata": {
    "collapsed": false,
    "jupyter": {
     "outputs_hidden": false
    }
   },
   "outputs": [
    {
     "ename": "LoadError",
     "evalue": "MethodError: no method matching setrounding(::Type{Float64}, ::RoundingMode{:Down})\n\n\u001b[0mClosest candidates are:\n\u001b[0m  setrounding(\u001b[91m::Type{BigFloat}\u001b[39m, ::RoundingMode)\n\u001b[0m\u001b[90m   @\u001b[39m \u001b[90mBase\u001b[39m \u001b[90m\u001b[4mmpfr.jl:134\u001b[24m\u001b[39m\n",
     "output_type": "error",
     "traceback": [
      "MethodError: no method matching setrounding(::Type{Float64}, ::RoundingMode{:Down})\n\n\u001b[0mClosest candidates are:\n\u001b[0m  setrounding(\u001b[91m::Type{BigFloat}\u001b[39m, ::RoundingMode)\n\u001b[0m\u001b[90m   @\u001b[39m \u001b[90mBase\u001b[39m \u001b[90m\u001b[4mmpfr.jl:134\u001b[24m\u001b[39m\n",
      "",
      "Stacktrace:",
      " [1] setrounding(f::var\"#9#10\", #unused#::Type{Float64}, rounding::RoundingMode{:Down})",
      "   @ Base.Rounding ./rounding.jl:181",
      " [2] top-level scope",
      "   @ In[26]:3"
     ]
    }
   ],
   "source": [
    "N = 10^6\n",
    "\n",
    "lower_π =\n",
    "    setrounding(Float64, RoundDown) do\n",
    "        lower_bound = reverse_sum(N) + 1/(N+1)\n",
    "        sqrt(6 * lower_bound)\n",
    "    end\n",
    "\n",
    "upper_π = \n",
    "    setrounding(Float64, RoundUp) do\n",
    "        upper_bound = reverse_sum(N) + 1/N\n",
    "        sqrt(6 * upper_bound)\n",
    "    end\n",
    "\n",
    "(lower_π, upper_π)"
   ]
  },
  {
   "cell_type": "code",
   "execution_count": 27,
   "metadata": {
    "collapsed": false,
    "jupyter": {
     "outputs_hidden": false
    }
   },
   "outputs": [
    {
     "ename": "LoadError",
     "evalue": "UndefVarError: `upper_π` not defined",
     "output_type": "error",
     "traceback": [
      "UndefVarError: `upper_π` not defined",
      "",
      "Stacktrace:",
      " [1] top-level scope",
      "   @ In[27]:1"
     ]
    }
   ],
   "source": [
    "upper_π - lower_π"
   ]
  },
  {
   "cell_type": "code",
   "execution_count": 28,
   "metadata": {
    "collapsed": false,
    "jupyter": {
     "outputs_hidden": false
    }
   },
   "outputs": [
    {
     "ename": "LoadError",
     "evalue": "UndefVarError: `lower_π` not defined",
     "output_type": "error",
     "traceback": [
      "UndefVarError: `lower_π` not defined",
      "",
      "Stacktrace:",
      " [1] top-level scope",
      "   @ In[28]:1"
     ]
    }
   ],
   "source": [
    "lower_π < pi < upper_π"
   ]
  },
  {
   "cell_type": "markdown",
   "metadata": {},
   "source": [
    "In principle, we could attain arbitrarily good precision with higher-precision `BigFloat`s, but the result is hampered by the slow convergence of the series."
   ]
  },
  {
   "cell_type": "markdown",
   "metadata": {},
   "source": [
    "## Summing a series using interval arithmetic"
   ]
  },
  {
   "cell_type": "markdown",
   "metadata": {},
   "source": [
    "We repeat the calculation using *interval arithmetic*, provided by the [ValidatedNumerics.jl](https://github.com/dpsanders/ValidatedNumerics.jl) package."
   ]
  },
  {
   "cell_type": "code",
   "execution_count": 29,
   "metadata": {
    "collapsed": false,
    "jupyter": {
     "outputs_hidden": false
    }
   },
   "outputs": [
    {
     "ename": "LoadError",
     "evalue": "ArgumentError: Package ValidatedNumerics not found in current path.\n- Run `import Pkg; Pkg.add(\"ValidatedNumerics\")` to install the ValidatedNumerics package.",
     "output_type": "error",
     "traceback": [
      "ArgumentError: Package ValidatedNumerics not found in current path.\n- Run `import Pkg; Pkg.add(\"ValidatedNumerics\")` to install the ValidatedNumerics package.",
      "",
      "Stacktrace:",
      " [1] macro expansion",
      "   @ ./loading.jl:1595 [inlined]",
      " [2] macro expansion",
      "   @ ./lock.jl:267 [inlined]",
      " [3] require(into::Module, mod::Symbol)",
      "   @ Base ./loading.jl:1576"
     ]
    }
   ],
   "source": [
    "using ValidatedNumerics"
   ]
  },
  {
   "cell_type": "code",
   "execution_count": 30,
   "metadata": {
    "collapsed": false,
    "jupyter": {
     "outputs_hidden": false
    }
   },
   "outputs": [
    {
     "ename": "LoadError",
     "evalue": "UndefVarError: `setdisplay` not defined",
     "output_type": "error",
     "traceback": [
      "UndefVarError: `setdisplay` not defined",
      "",
      "Stacktrace:",
      " [1] top-level scope",
      "   @ In[30]:1"
     ]
    }
   ],
   "source": [
    "setdisplay(:standard)  # abbreviated display of intervals"
   ]
  },
  {
   "cell_type": "code",
   "execution_count": 31,
   "metadata": {
    "collapsed": false,
    "jupyter": {
     "outputs_hidden": false
    }
   },
   "outputs": [
    {
     "ename": "LoadError",
     "evalue": "UndefVarError: `Interval` not defined",
     "output_type": "error",
     "traceback": [
      "UndefVarError: `Interval` not defined",
      "",
      "Stacktrace:",
      " [1] top-level scope",
      "   @ In[31]:2"
     ]
    }
   ],
   "source": [
    "N = 10000\n",
    "S = forward_sum(N, Interval)\n",
    "S += 1/(N+1) .. 1/N  # interval bound on the remainder of the series\n",
    "π_interval = √(6S)"
   ]
  },
  {
   "cell_type": "markdown",
   "metadata": {},
   "source": [
    "Here we used an abbreviated display for the interval. Let's see the whole thing:"
   ]
  },
  {
   "cell_type": "code",
   "execution_count": 32,
   "metadata": {
    "collapsed": false,
    "jupyter": {
     "outputs_hidden": false
    }
   },
   "outputs": [
    {
     "ename": "LoadError",
     "evalue": "UndefVarError: `setdisplay` not defined",
     "output_type": "error",
     "traceback": [
      "UndefVarError: `setdisplay` not defined",
      "",
      "Stacktrace:",
      " [1] top-level scope",
      "   @ In[32]:1"
     ]
    }
   ],
   "source": [
    "setdisplay(:full)\n",
    "π_interval"
   ]
  },
  {
   "cell_type": "markdown",
   "metadata": {},
   "source": [
    "It's diameter (width) is"
   ]
  },
  {
   "cell_type": "code",
   "execution_count": 33,
   "metadata": {
    "collapsed": false,
    "jupyter": {
     "outputs_hidden": false
    }
   },
   "outputs": [
    {
     "ename": "LoadError",
     "evalue": "UndefVarError: `diam` not defined",
     "output_type": "error",
     "traceback": [
      "UndefVarError: `diam` not defined",
      "",
      "Stacktrace:",
      " [1] top-level scope",
      "   @ In[33]:1"
     ]
    }
   ],
   "source": [
    "diam(π_interval)"
   ]
  },
  {
   "cell_type": "markdown",
   "metadata": {},
   "source": [
    "Thus, the result is correct to approximately 8 decimals."
   ]
  },
  {
   "cell_type": "markdown",
   "metadata": {},
   "source": [
    "In this calculation, we used the fact that arithmetic operations of intervals with numbers automatically promote the numbers to an interval:"
   ]
  },
  {
   "cell_type": "code",
   "execution_count": 34,
   "metadata": {
    "collapsed": false,
    "jupyter": {
     "outputs_hidden": false
    }
   },
   "outputs": [
    {
     "ename": "LoadError",
     "evalue": "UndefVarError: `setdisplay` not defined",
     "output_type": "error",
     "traceback": [
      "UndefVarError: `setdisplay` not defined",
      "",
      "Stacktrace:",
      " [1] top-level scope",
      "   @ In[34]:1"
     ]
    }
   ],
   "source": [
    "setdisplay(:full)  # full interval display\n",
    "Interval(0) + 1/3^2"
   ]
  },
  {
   "cell_type": "markdown",
   "metadata": {},
   "source": [
    "This is an interval containing the true real number $1/9$ (written `1//9` in Julia):"
   ]
  },
  {
   "cell_type": "code",
   "execution_count": 35,
   "metadata": {
    "collapsed": false,
    "jupyter": {
     "outputs_hidden": false
    }
   },
   "outputs": [
    {
     "ename": "LoadError",
     "evalue": "UndefVarError: `Interval` not defined",
     "output_type": "error",
     "traceback": [
      "UndefVarError: `Interval` not defined",
      "",
      "Stacktrace:",
      " [1] top-level scope",
      "   @ In[35]:1"
     ]
    }
   ],
   "source": [
    "1//9 ∈ convert(Interval{Float64}, 1/3^2)"
   ]
  },
  {
   "cell_type": "markdown",
   "metadata": {},
   "source": [
    "Finally, we can check that the true value of $\\pi$ is indeed inside our interval:"
   ]
  },
  {
   "cell_type": "code",
   "execution_count": 36,
   "metadata": {
    "collapsed": false,
    "jupyter": {
     "outputs_hidden": false
    }
   },
   "outputs": [
    {
     "ename": "LoadError",
     "evalue": "UndefVarError: `π_interval` not defined",
     "output_type": "error",
     "traceback": [
      "UndefVarError: `π_interval` not defined",
      "",
      "Stacktrace:",
      " [1] top-level scope",
      "   @ In[36]:1"
     ]
    }
   ],
   "source": [
    "pi ∈ π_interval"
   ]
  },
  {
   "cell_type": "markdown",
   "metadata": {},
   "source": [
    "## Calculating an area"
   ]
  },
  {
   "cell_type": "markdown",
   "metadata": {},
   "source": [
    "Although the calculation above is simple, the derivation of the series itself is not. In this section, we will use a more natural way to calculate $\\pi$, namely that the area of a circle of radius $r$ is $A(r) = \\pi r^2$. We will calculate the area of one quadrant of a circle of radius $r=2$, which is equal to $\\pi$:"
   ]
  },
  {
   "cell_type": "code",
   "execution_count": null,
   "metadata": {
    "collapsed": false,
    "jupyter": {
     "outputs_hidden": false
    }
   },
   "outputs": [
    {
     "name": "stderr",
     "output_type": "stream",
     "text": [
      "\u001b[36m\u001b[1m[ \u001b[22m\u001b[39m\u001b[36m\u001b[1mInfo: \u001b[22m\u001b[39mPrecompiling Plots [91a5bcdd-55d7-5caf-9e0b-520d859cae80]\n"
     ]
    }
   ],
   "source": [
    "using Plots; gr();"
   ]
  },
  {
   "cell_type": "code",
   "execution_count": null,
   "metadata": {
    "collapsed": false,
    "jupyter": {
     "outputs_hidden": false
    }
   },
   "outputs": [],
   "source": [
    "f(x) = √(4 - x^2)"
   ]
  },
  {
   "cell_type": "code",
   "execution_count": null,
   "metadata": {
    "collapsed": false,
    "jupyter": {
     "outputs_hidden": false
    }
   },
   "outputs": [],
   "source": [
    "plot(f, 0, 2, aspect_ratio=:equal, fill=(0, :orange), alpha=0.2, label=\"\")"
   ]
  },
  {
   "cell_type": "markdown",
   "metadata": {},
   "source": [
    "The circle of radius $r=2$ is given by $x^2 + y^2 = 2^2 = 4$, so \n",
    "\n",
    "$$\\pi = \\frac{1}{4} A(2) = \\int_{x=0}^2 y(x) \\, dx = \\int_{x=0}^2 \\sqrt{4 - x^2}.$$"
   ]
  },
  {
   "cell_type": "markdown",
   "metadata": {},
   "source": [
    "In calculus, we learn that we can approximate integrals using **Riemann sums**. Interval arithmetic allows us to make these Riemann sums **rigorous** in a very simple way, as follows.\n",
    "\n",
    "We split up the $x$ axis into intervals, for example of equal width:"
   ]
  },
  {
   "cell_type": "code",
   "execution_count": null,
   "metadata": {
    "collapsed": false,
    "jupyter": {
     "outputs_hidden": false
    }
   },
   "outputs": [],
   "source": [
    "function make_intervals(N=10)\n",
    "    xs = linspace(0, 2, N+1)\n",
    "    return [xs[i]..xs[i+1] for i in 1:length(xs)-1]\n",
    "end\n",
    "\n",
    "intervals = make_intervals()"
   ]
  },
  {
   "cell_type": "markdown",
   "metadata": {},
   "source": [
    "Given one of those intervals, we evaluate the function of interest:"
   ]
  },
  {
   "cell_type": "code",
   "execution_count": null,
   "metadata": {
    "collapsed": false,
    "jupyter": {
     "outputs_hidden": false
    }
   },
   "outputs": [],
   "source": [
    "II = intervals[1]"
   ]
  },
  {
   "cell_type": "code",
   "execution_count": null,
   "metadata": {
    "collapsed": false,
    "jupyter": {
     "outputs_hidden": false
    }
   },
   "outputs": [],
   "source": [
    "f(II)"
   ]
  },
  {
   "cell_type": "markdown",
   "metadata": {},
   "source": [
    "The result is an interval that is **guaranteed to contain** the true range of the function $f$ over that interval. So the lower and upper bounds of the intervals may be used as lower and upper bounds of the height of the box in a Riemann integral:"
   ]
  },
  {
   "cell_type": "code",
   "execution_count": null,
   "metadata": {
    "collapsed": false,
    "jupyter": {
     "outputs_hidden": false
    }
   },
   "outputs": [],
   "source": [
    "intervals = make_intervals(30)\n",
    "\n",
    "p = plot(aspect_ratio=:equal)\n",
    "for X in intervals\n",
    "    Y = f(X)\n",
    "    \n",
    "    plot!(IntervalBox(X, Interval(0, Y.lo)), c=:blue, label=\"\", alpha=0.1)\n",
    "    plot!(IntervalBox(X, Interval(Y.lo, Y.hi)), c=:red, label=\"\", alpha=0.1)\n",
    "end\n",
    "\n",
    "plot!(f, 0, 2)\n",
    "\n",
    "p"
   ]
  },
  {
   "cell_type": "markdown",
   "metadata": {},
   "source": [
    "Now we just sum up the areas:"
   ]
  },
  {
   "cell_type": "code",
   "execution_count": null,
   "metadata": {
    "collapsed": false,
    "jupyter": {
     "outputs_hidden": false
    }
   },
   "outputs": [],
   "source": [
    "N = 20\n",
    "intervals = make_intervals(N)\n",
    "\n",
    "width = 2/N\n",
    "width * sum(√(4 - X^2) for X in intervals)"
   ]
  },
  {
   "cell_type": "markdown",
   "metadata": {},
   "source": [
    "As we increase the number of sub-intervals, the approximation gets better and better:"
   ]
  },
  {
   "cell_type": "code",
   "execution_count": null,
   "metadata": {
    "collapsed": false,
    "jupyter": {
     "outputs_hidden": false
    },
    "tags": []
   },
   "outputs": [],
   "source": [
    "setdisplay(:standard, sigfigs=5)\n",
    "\n",
    "println(\"N \\t area interval \\t \\t diameter\")\n",
    "for N in 50:50:1000\n",
    "    intervals = make_intervals(N)\n",
    "    area = (2/N) * sum(√(4 - X^2) for X in intervals)\n",
    "            \n",
    "    println(\"$N \\t $area \\t $(diam(area))\")\n",
    "end"
   ]
  }
 ],
 "metadata": {
  "kernelspec": {
   "display_name": "Julia 1.9.0",
   "language": "julia",
   "name": "julia-1.9"
  },
  "language_info": {
   "file_extension": ".jl",
   "mimetype": "application/julia",
   "name": "julia",
   "version": "1.9.0"
  }
 },
 "nbformat": 4,
 "nbformat_minor": 4
}
