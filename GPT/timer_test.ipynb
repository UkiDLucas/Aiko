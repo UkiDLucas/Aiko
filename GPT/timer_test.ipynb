{
 "cells": [
  {
   "cell_type": "code",
   "execution_count": 1,
   "id": "650509b3-9bf8-49b2-a4dc-3c3ba2bc0d25",
   "metadata": {},
   "outputs": [],
   "source": [
    "import time\n",
    "from python.execution_timer import ExecutionTimer"
   ]
  },
  {
   "cell_type": "code",
   "execution_count": 2,
   "id": "58754bd8-1416-4189-b945-536e31ecd4e3",
   "metadata": {},
   "outputs": [
    {
     "name": "stdout",
     "output_type": "stream",
     "text": [
      "Initialize ExecutionTimer.\n",
      "> starting timer  53  years since January 1, 1970.\n",
      "testing ns  : elapsed:  96.083 ns\n",
      "testing ms  : elapsed:  100.683 ms\n",
      "testing s  : elapsed:  3.104 s\n",
      "testing minutes  : elapsed:  1.002 minutes\n"
     ]
    }
   ],
   "source": [
    "timer = ExecutionTimer()\n",
    "timer.print_time(\"testing ns \")\n",
    "time.sleep(0.1) # seconds\n",
    "timer.print_time(\"testing ms \")\n",
    "time.sleep(3) # seconds\n",
    "timer.print_time(\"testing s \")\n",
    "time.sleep(57) # seconds\n",
    "timer.print_time(\"testing minutes \")"
   ]
  },
  {
   "cell_type": "code",
   "execution_count": null,
   "id": "b3a03651-bb3b-4f4e-8377-3a3ff853fcfa",
   "metadata": {},
   "outputs": [],
   "source": []
  },
  {
   "cell_type": "code",
   "execution_count": null,
   "id": "0ceb259b-7b7d-452a-85bf-2cada0c77100",
   "metadata": {},
   "outputs": [],
   "source": []
  }
 ],
 "metadata": {
  "kernelspec": {
   "display_name": "Python 3 (ipykernel)",
   "language": "python",
   "name": "python3"
  },
  "language_info": {
   "codemirror_mode": {
    "name": "ipython",
    "version": 3
   },
   "file_extension": ".py",
   "mimetype": "text/x-python",
   "name": "python",
   "nbconvert_exporter": "python",
   "pygments_lexer": "ipython3",
   "version": "3.10.10"
  }
 },
 "nbformat": 4,
 "nbformat_minor": 5
}
