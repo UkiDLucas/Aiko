{
 "cells": [
  {
   "cell_type": "markdown",
   "metadata": {},
   "source": [
    "# Wikipedia"
   ]
  },
  {
   "cell_type": "markdown",
   "metadata": {
    "toc": true
   },
   "source": [
    "<h1>Table of Contents<span class=\"tocSkip\"></span></h1>\n",
    "<div class=\"toc\"><ul class=\"toc-item\"><li><span><a href=\"#Download-Wikipedia-abstract\" data-toc-modified-id=\"Download-Wikipedia-abstract-1\">Download Wikipedia abstract</a></span></li><li><span><a href=\"#Install-gensim\" data-toc-modified-id=\"Install-gensim-2\">Install gensim</a></span></li></ul></div>"
   ]
  },
  {
   "cell_type": "markdown",
   "metadata": {},
   "source": [
    "## Download Wikipedia abstract\n",
    "\n",
    "- [Wikipedia latest abstract](https://dumps.wikimedia.org/enwiki/latest/enwiki-latest-abstract.xml.gz)\n",
    "\n",
    "The Wikipedia abstract is provided as \".gz\" file and as of January 2021 it is 789.2 MB.\n",
    "Once downloaded and expanded (double-click on Mac), it is an XML, 6.24 GB in size.\n",
    "\n",
    "The content can be previewed in Terminal:\n",
    "\n",
    "```Bash\n",
    "$ more /Users/uki/Downloads/enwiki-latest-abstract.xml\n",
    "```\n",
    "\n",
    "```XML\n",
    "<doc>\n",
    "<title>Wikipedia: Apollo 9</title>\n",
    "<url>https://en.wikipedia.org/wiki/Apollo_9</url>\n",
    "<abstract>|LM ascent stage: 1969-018C</abstract>\n",
    "<links>\n",
    "<sublink linktype=\"nav\"><anchor>Mission background</anchor><link>https://en.wikipedia.org/wiki/Apollo_9#Mission_background</link></sublink>\n",
    "<sublink linktype=\"nav\"><anchor>Framework</anchor>\n",
    "<link>https://en.wikipedia.org/wiki/Apollo_9#Framework</link></sublink>\n",
    "...\n",
    "<sublink linktype=\"nav\"><anchor>External links</anchor><link>https://en.wikipedia.org/wiki/Apollo_9#External_links</link></sublink>\n",
    "</links>\n",
    "</doc>\n",
    "<doc>\n",
    "\n",
    "```\n",
    "As you can see it consists of documents, their titles and links."
   ]
  },
  {
   "cell_type": "markdown",
   "metadata": {},
   "source": [
    "## Install gensim\n",
    "\n",
    "Gensim is a Python library for topic modeling, document indexing and similarity retrieval with large corpora. The target audience is the natural language processing (NLP) and information retrieval community.\n",
    "\n",
    "- gensim [description](https://pypi.org/project/gensim/)\n",
    "\n",
    "I will use gensim to remove all markup from the Wikipedia corpus."
   ]
  },
  {
   "cell_type": "code",
   "execution_count": 4,
   "metadata": {
    "ExecuteTime": {
     "end_time": "2021-01-04T22:18:31.952272Z",
     "start_time": "2021-01-04T22:18:31.949916Z"
    }
   },
   "outputs": [],
   "source": [
    "## Uncomment lines below to run once\n",
    "\n",
    "#!/opt/anaconda3/envs/turi/bin/python -m pip install --upgrade pip\n",
    "#!pip install --upgrade gensim"
   ]
  },
  {
   "cell_type": "code",
   "execution_count": 5,
   "metadata": {
    "ExecuteTime": {
     "end_time": "2021-01-04T22:20:11.287563Z",
     "start_time": "2021-01-04T22:20:11.285069Z"
    }
   },
   "outputs": [],
   "source": [
    "# https://github.com/panyang/Wikipedia_Word2vec/blob/master/v1/process_wiki.py\n",
    "\n",
    "import sys\n",
    "from gensim.corpora import WikiCorpus"
   ]
  },
  {
   "cell_type": "code",
   "execution_count": 9,
   "metadata": {
    "ExecuteTime": {
     "end_time": "2021-01-04T22:42:59.487655Z",
     "start_time": "2021-01-04T22:42:59.480730Z"
    }
   },
   "outputs": [],
   "source": [
    "def make_corpus(in_f, out_f):\n",
    "\n",
    "    \"\"\"Convert Wikipedia xml dump file to text corpus\"\"\"\n",
    "\n",
    "    output = open(out_f, 'w')\n",
    "    wiki = WikiCorpus(in_f)\n",
    "\n",
    "    i = 0\n",
    "    for text in wiki.get_texts():\n",
    "        output.write(bytes(' '.join(text), 'utf-8').decode('utf-8') + '\\n')\n",
    "        i = i + 1\n",
    "        if (i % 10000 == 0):\n",
    "            print('Processed ' + str(i) + ' articles')\n",
    "    output.close()\n",
    "    print('Processing complete!')"
   ]
  },
  {
   "cell_type": "code",
   "execution_count": 11,
   "metadata": {
    "ExecuteTime": {
     "end_time": "2021-01-04T22:43:25.119067Z",
     "start_time": "2021-01-04T22:43:24.980211Z"
    }
   },
   "outputs": [
    {
     "name": "stdout",
     "output_type": "stream",
     "text": [
      "/Users/uki/REPOS/Aiko/notebooks\r\n"
     ]
    }
   ],
   "source": [
    "!pwd"
   ]
  },
  {
   "cell_type": "code",
   "execution_count": 10,
   "metadata": {
    "ExecuteTime": {
     "end_time": "2021-01-04T22:43:01.142704Z",
     "start_time": "2021-01-04T22:43:01.112651Z"
    }
   },
   "outputs": [
    {
     "ename": "FileNotFoundError",
     "evalue": "[Errno 2] No such file or directory: '/Wikipedia/enwiki.txt'",
     "output_type": "error",
     "traceback": [
      "\u001b[0;31m---------------------------------------------------------------------------\u001b[0m",
      "\u001b[0;31mFileNotFoundError\u001b[0m                         Traceback (most recent call last)",
      "\u001b[0;32m<ipython-input-10-df9bd5351b4c>\u001b[0m in \u001b[0;36m<module>\u001b[0;34m\u001b[0m\n\u001b[1;32m      1\u001b[0m \u001b[0mwiki_abstract_filepath\u001b[0m \u001b[0;34m=\u001b[0m \u001b[0;34m\"/Wikipedia/enwiki-latest-abstract.xml\"\u001b[0m\u001b[0;34m\u001b[0m\u001b[0;34m\u001b[0m\u001b[0m\n\u001b[1;32m      2\u001b[0m \u001b[0mwiki_full_filepath\u001b[0m \u001b[0;34m=\u001b[0m \u001b[0;34m\"/Wikipedia/enwiki.txt\"\u001b[0m\u001b[0;34m\u001b[0m\u001b[0;34m\u001b[0m\u001b[0m\n\u001b[0;32m----> 3\u001b[0;31m \u001b[0mmake_corpus\u001b[0m\u001b[0;34m(\u001b[0m\u001b[0mwiki_abstract_filepath\u001b[0m\u001b[0;34m,\u001b[0m \u001b[0mwiki_full_filepath\u001b[0m\u001b[0;34m)\u001b[0m\u001b[0;34m\u001b[0m\u001b[0;34m\u001b[0m\u001b[0m\n\u001b[0m",
      "\u001b[0;32m<ipython-input-9-2902b6b53ddd>\u001b[0m in \u001b[0;36mmake_corpus\u001b[0;34m(in_f, out_f)\u001b[0m\n\u001b[1;32m      3\u001b[0m     \u001b[0;34m\"\"\"Convert Wikipedia xml dump file to text corpus\"\"\"\u001b[0m\u001b[0;34m\u001b[0m\u001b[0;34m\u001b[0m\u001b[0m\n\u001b[1;32m      4\u001b[0m \u001b[0;34m\u001b[0m\u001b[0m\n\u001b[0;32m----> 5\u001b[0;31m     \u001b[0moutput\u001b[0m \u001b[0;34m=\u001b[0m \u001b[0mopen\u001b[0m\u001b[0;34m(\u001b[0m\u001b[0mout_f\u001b[0m\u001b[0;34m,\u001b[0m \u001b[0;34m'w'\u001b[0m\u001b[0;34m)\u001b[0m\u001b[0;34m\u001b[0m\u001b[0;34m\u001b[0m\u001b[0m\n\u001b[0m\u001b[1;32m      6\u001b[0m     \u001b[0mwiki\u001b[0m \u001b[0;34m=\u001b[0m \u001b[0mWikiCorpus\u001b[0m\u001b[0;34m(\u001b[0m\u001b[0min_f\u001b[0m\u001b[0;34m)\u001b[0m\u001b[0;34m\u001b[0m\u001b[0;34m\u001b[0m\u001b[0m\n\u001b[1;32m      7\u001b[0m \u001b[0;34m\u001b[0m\u001b[0m\n",
      "\u001b[0;31mFileNotFoundError\u001b[0m: [Errno 2] No such file or directory: '/Wikipedia/enwiki.txt'"
     ]
    }
   ],
   "source": [
    "wiki_abstract_filepath = \"../../Wikipedia/enwiki-latest-abstract.xml\"\n",
    "wiki_full_filepath = \"../../Wikipedia/enwiki.txt\"\n",
    "make_corpus(wiki_abstract_filepath, wiki_full_filepath)"
   ]
  },
  {
   "cell_type": "code",
   "execution_count": null,
   "metadata": {},
   "outputs": [],
   "source": []
  }
 ],
 "metadata": {
  "kernelspec": {
   "display_name": "Python 3.6.10 64-bit ('turi': conda)",
   "language": "python",
   "name": "python361064bitturiconda565ecc262d0845fbb235ae21ac24296f"
  },
  "language_info": {
   "codemirror_mode": {
    "name": "ipython",
    "version": 3
   },
   "file_extension": ".py",
   "mimetype": "text/x-python",
   "name": "python",
   "nbconvert_exporter": "python",
   "pygments_lexer": "ipython3",
   "version": "3.6.10"
  },
  "toc": {
   "base_numbering": 1,
   "nav_menu": {},
   "number_sections": false,
   "sideBar": true,
   "skip_h1_title": true,
   "title_cell": "Table of Contents",
   "title_sidebar": "Contents",
   "toc_cell": true,
   "toc_position": {},
   "toc_section_display": true,
   "toc_window_display": true
  },
  "varInspector": {
   "cols": {
    "lenName": 16,
    "lenType": 16,
    "lenVar": 40
   },
   "kernels_config": {
    "python": {
     "delete_cmd_postfix": "",
     "delete_cmd_prefix": "del ",
     "library": "var_list.py",
     "varRefreshCmd": "print(var_dic_list())"
    },
    "r": {
     "delete_cmd_postfix": ") ",
     "delete_cmd_prefix": "rm(",
     "library": "var_list.r",
     "varRefreshCmd": "cat(var_dic_list()) "
    }
   },
   "types_to_exclude": [
    "module",
    "function",
    "builtin_function_or_method",
    "instance",
    "_Feature"
   ],
   "window_display": false
  }
 },
 "nbformat": 4,
 "nbformat_minor": 4
}
