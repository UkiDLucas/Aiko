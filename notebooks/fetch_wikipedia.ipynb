{
 "cells": [
  {
   "cell_type": "markdown",
   "metadata": {},
   "source": [
    "# Wikipedia"
   ]
  },
  {
   "cell_type": "markdown",
   "metadata": {
    "toc": true
   },
   "source": [
    "<h1>Table of Contents<span class=\"tocSkip\"></span></h1>\n",
    "<div class=\"toc\"><ul class=\"toc-item\"><li><span><a href=\"#Download-Wikipedia-abstract\" data-toc-modified-id=\"Download-Wikipedia-abstract-1\">Download Wikipedia abstract</a></span></li><li><span><a href=\"#Install-gensim\" data-toc-modified-id=\"Install-gensim-2\">Install gensim</a></span></li></ul></div>"
   ]
  },
  {
   "cell_type": "markdown",
   "metadata": {},
   "source": [
    "## Download Wikipedia abstract\n",
    "\n",
    "- [Wikipedia latest abstract](https://dumps.wikimedia.org/enwiki/latest/enwiki-latest-abstract.xml.gz)\n",
    "\n",
    "The Wikipedia abstract is provided as \".gz\" file and as of January 2021 it is 789.2 MB.\n",
    "Once downloaded and expanded (double-click on Mac), it is an XML, 6.24 GB in size.\n",
    "\n",
    "The content can be previewed in Terminal:\n",
    "\n",
    "```Bash\n",
    "$ more /Users/uki/Downloads/enwiki-latest-abstract.xml\n",
    "```\n",
    "\n",
    "```XML\n",
    "<doc>\n",
    "<title>Wikipedia: Apollo 9</title>\n",
    "<url>https://en.wikipedia.org/wiki/Apollo_9</url>\n",
    "<abstract>|LM ascent stage: 1969-018C</abstract>\n",
    "<links>\n",
    "<sublink linktype=\"nav\"><anchor>Mission background</anchor><link>https://en.wikipedia.org/wiki/Apollo_9#Mission_background</link></sublink>\n",
    "<sublink linktype=\"nav\"><anchor>Framework</anchor>\n",
    "<link>https://en.wikipedia.org/wiki/Apollo_9#Framework</link></sublink>\n",
    "...\n",
    "<sublink linktype=\"nav\"><anchor>External links</anchor><link>https://en.wikipedia.org/wiki/Apollo_9#External_links</link></sublink>\n",
    "</links>\n",
    "</doc>\n",
    "<doc>\n",
    "\n",
    "```\n",
    "As you can see it consists of documents, their titles and links."
   ]
  },
  {
   "cell_type": "markdown",
   "metadata": {},
   "source": [
    "## Install gensim\n",
    "\n",
    "Gensim is a Python library for topic modeling, document indexing and similarity retrieval with large corpora. The target audience is the natural language processing (NLP) and information retrieval community.\n",
    "\n",
    "- gensim [description](https://pypi.org/project/gensim/)\n",
    "\n",
    "I will use gensim to remove all markup from the Wikipedia corpus."
   ]
  },
  {
   "cell_type": "code",
   "execution_count": null,
   "metadata": {
    "ExecuteTime": {
     "end_time": "2021-01-04T22:18:31.952272Z",
     "start_time": "2021-01-04T22:18:31.949916Z"
    }
   },
   "outputs": [],
   "source": [
    "## Uncomment lines below to run once\n",
    "\n",
    "#!/opt/anaconda3/envs/turi/bin/python -m pip install --upgrade pip\n",
    "#!pip install --upgrade gensim"
   ]
  },
  {
   "cell_type": "code",
   "execution_count": null,
   "metadata": {
    "ExecuteTime": {
     "end_time": "2021-01-04T22:54:54.167624Z",
     "start_time": "2021-01-04T22:54:53.423258Z"
    }
   },
   "outputs": [],
   "source": [
    "# https://github.com/panyang/Wikipedia_Word2vec/blob/master/v1/process_wiki.py\n",
    "\n",
    "import sys\n",
    "from gensim.corpora import WikiCorpus"
   ]
  },
  {
   "cell_type": "code",
   "execution_count": null,
   "metadata": {
    "ExecuteTime": {
     "end_time": "2021-01-04T22:54:54.199431Z",
     "start_time": "2021-01-04T22:54:54.192344Z"
    }
   },
   "outputs": [],
   "source": [
    "def make_corpus(in_f, out_f):\n",
    "\n",
    "    \"\"\"Convert Wikipedia xml dump file to text corpus\"\"\"\n",
    "\n",
    "    output = open(out_f, 'w')\n",
    "    wiki = WikiCorpus(in_f)\n",
    "\n",
    "    i = 0\n",
    "    for text in wiki.get_texts():\n",
    "        output.write(bytes(' '.join(text), 'utf-8').decode('utf-8') + '\\n')\n",
    "        i = i + 1\n",
    "        if (i % 100 == 0):\n",
    "            print('Processed ' + str(i) + ' articles')\n",
    "    output.close()\n",
    "    print('Processing complete!')"
   ]
  },
  {
   "cell_type": "code",
   "execution_count": null,
   "metadata": {
    "ExecuteTime": {
     "end_time": "2021-01-04T22:54:55.213359Z",
     "start_time": "2021-01-04T22:54:55.089937Z"
    },
    "scrolled": true
   },
   "outputs": [],
   "source": [
    "!pwd"
   ]
  },
  {
   "cell_type": "code",
   "execution_count": null,
   "metadata": {
    "ExecuteTime": {
     "start_time": "2021-01-05T00:49:53.758Z"
    }
   },
   "outputs": [],
   "source": [
    "wiki_abstract_filepath = \"../../Wikipedia/enwiki-latest-abstract.xml\"\n",
    "wiki_full_filepath = \"../../Wikipedia/enwiki.txt\"\n",
    "make_corpus(wiki_abstract_filepath, wiki_full_filepath)"
   ]
  },
  {
   "cell_type": "code",
   "execution_count": null,
   "metadata": {},
   "outputs": [],
   "source": []
  }
 ],
 "metadata": {
  "kernelspec": {
   "display_name": "Python 3.6.10 64-bit ('turi': conda)",
   "language": "python",
   "name": "python361064bitturiconda565ecc262d0845fbb235ae21ac24296f"
  },
  "language_info": {
   "codemirror_mode": {
    "name": "ipython",
    "version": 3
   },
   "file_extension": ".py",
   "mimetype": "text/x-python",
   "name": "python",
   "nbconvert_exporter": "python",
   "pygments_lexer": "ipython3",
   "version": "3.6.10"
  },
  "toc": {
   "base_numbering": 1,
   "nav_menu": {},
   "number_sections": false,
   "sideBar": true,
   "skip_h1_title": true,
   "title_cell": "Table of Contents",
   "title_sidebar": "Contents",
   "toc_cell": true,
   "toc_position": {},
   "toc_section_display": true,
   "toc_window_display": true
  },
  "varInspector": {
   "cols": {
    "lenName": 16,
    "lenType": 16,
    "lenVar": 40
   },
   "kernels_config": {
    "python": {
     "delete_cmd_postfix": "",
     "delete_cmd_prefix": "del ",
     "library": "var_list.py",
     "varRefreshCmd": "print(var_dic_list())"
    },
    "r": {
     "delete_cmd_postfix": ") ",
     "delete_cmd_prefix": "rm(",
     "library": "var_list.r",
     "varRefreshCmd": "cat(var_dic_list()) "
    }
   },
   "types_to_exclude": [
    "module",
    "function",
    "builtin_function_or_method",
    "instance",
    "_Feature"
   ],
   "window_display": false
  }
 },
 "nbformat": 4,
 "nbformat_minor": 4
}
