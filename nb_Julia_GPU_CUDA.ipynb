{
 "cells": [
  {
   "cell_type": "markdown",
   "id": "269b9a17-a06b-41db-8070-876b807483b8",
   "metadata": {
    "tags": []
   },
   "source": [
    "# Julia GPU parallelism\n",
    "\n",
    "- https://juliagpu.gitlab.io/CUDA.jl/"
   ]
  },
  {
   "cell_type": "code",
   "execution_count": 15,
   "id": "dfb6a211-4ec2-400a-b673-cc221407444c",
   "metadata": {},
   "outputs": [
    {
     "name": "stderr",
     "output_type": "stream",
     "text": [
      "\u001b[32m\u001b[1m   Resolving\u001b[22m\u001b[39m package versions...\n",
      "\u001b[32m\u001b[1m  No Changes\u001b[22m\u001b[39m to `~/.julia/environments/v1.9/Project.toml`\n",
      "\u001b[32m\u001b[1m  No Changes\u001b[22m\u001b[39m to `~/.julia/environments/v1.9/Manifest.toml`\n",
      "\u001b[32m\u001b[1m   Resolving\u001b[22m\u001b[39m package versions...\n",
      "\u001b[32m\u001b[1m  No Changes\u001b[22m\u001b[39m to `~/.julia/environments/v1.9/Project.toml`\n",
      "\u001b[32m\u001b[1m  No Changes\u001b[22m\u001b[39m to `~/.julia/environments/v1.9/Manifest.toml`\n",
      "\u001b[32m\u001b[1m   Resolving\u001b[22m\u001b[39m package versions...\n",
      "\u001b[32m\u001b[1m  No Changes\u001b[22m\u001b[39m to `~/.julia/environments/v1.9/Project.toml`\n",
      "\u001b[32m\u001b[1m  No Changes\u001b[22m\u001b[39m to `~/.julia/environments/v1.9/Manifest.toml`\n",
      "\u001b[32m\u001b[1m   Resolving\u001b[22m\u001b[39m package versions...\n",
      "\u001b[32m\u001b[1m  No Changes\u001b[22m\u001b[39m to `~/.julia/environments/v1.9/Project.toml`\n",
      "\u001b[32m\u001b[1m  No Changes\u001b[22m\u001b[39m to `~/.julia/environments/v1.9/Manifest.toml`\n"
     ]
    }
   ],
   "source": [
    "# RUN ONCE IN A WHILE\n",
    "# Uncomment to update packages on NVidia GPU\n",
    "\n",
    "import Pkg; \n",
    "# using Pkg\n",
    "\n",
    "Pkg.add(\"BenchmarkTools\")\n",
    "Pkg.add(\"CUDA\")\n",
    "# Pkg.test(\"CUDA\")\n",
    "Pkg.add(\"LoopVectorization\")\n",
    "Pkg.add(\"Plots\")"
   ]
  },
  {
   "cell_type": "code",
   "execution_count": 9,
   "id": "e2a9f500-e8e7-4809-9472-089d14ad0383",
   "metadata": {},
   "outputs": [
    {
     "data": {
      "text/plain": [
       "mygemmturbo! (generic function with 1 method)"
      ]
     },
     "execution_count": 9,
     "metadata": {},
     "output_type": "execute_result"
    }
   ],
   "source": [
    "using LinearAlgebra, BenchmarkTools, CUDA, LoopVectorization\n",
    "\n",
    "function mygemmturbo!(C, A, B)\n",
    "    @tturbo for m ∈ axes(A, 1), n ∈ axes(B, 2)\n",
    "        Cmn = zero(eltype(C))\n",
    "        for k ∈ axes(A, 2)\n",
    "            Cmn += A[m, k] * B[k, n]\n",
    "        end\n",
    "        C[m, n] = Cmn\n",
    "    end\n",
    "end"
   ]
  },
  {
   "cell_type": "code",
   "execution_count": 10,
   "id": "66619ac6-04b0-49c3-8c21-5290cdcc0dad",
   "metadata": {},
   "outputs": [
    {
     "data": {
      "text/plain": [
       "alloc_timer (generic function with 1 method)"
      ]
     },
     "execution_count": 10,
     "metadata": {},
     "output_type": "execute_result"
    }
   ],
   "source": [
    "\n",
    "function alloc_timer(n)\n",
    "    A = rand(Float32,n,n)\n",
    "    B = rand(Float32,n,n)\n",
    "    C = rand(Float32,n,n)\n",
    "    t1 = @belapsed $A * $B\n",
    "    t2 = @belapsed (mul!($C,$A,$B))\n",
    "    t3 = @belapsed (mygemmturbo!($C,$A,$B))\n",
    "    A,B,C = (cu(A), cu(B), cu(C))\n",
    "    t4 = @belapsed CUDA.@sync($A * $B)\n",
    "    t5 = @belapsed CUDA.@sync(mul!($C,$A,$B))\n",
    "    t1,t2,t3,t4,t5\n",
    "end"
   ]
  },
  {
   "cell_type": "code",
   "execution_count": 11,
   "id": "f1899842-6617-41f1-9be8-3b70c98d4aa0",
   "metadata": {},
   "outputs": [
    {
     "ename": "LoadError",
     "evalue": "CUDA driver not found",
     "output_type": "error",
     "traceback": [
      "CUDA driver not found",
      "",
      "Stacktrace:",
      "  [1] error(s::String)",
      "    @ Base ./error.jl:35",
      "  [2] functional",
      "    @ ~/.julia/packages/CUDA/pCcGc/src/initialization.jl:24 [inlined]",
      "  [3] task_local_state!()",
      "    @ CUDA ~/.julia/packages/CUDA/pCcGc/lib/cudadrv/state.jl:77",
      "  [4] #alloc#988",
      "    @ ~/.julia/packages/CUDA/pCcGc/src/pool.jl:0 [inlined]",
      "  [5] alloc",
      "    @ ~/.julia/packages/CUDA/pCcGc/src/pool.jl:392 [inlined]",
      "  [6] CuArray{Float32, 2, CUDA.Mem.DeviceBuffer}(#unused#::UndefInitializer, dims::Tuple{Int64, Int64})",
      "    @ CUDA ~/.julia/packages/CUDA/pCcGc/src/array.jl:93",
      "  [7] CuArray",
      "    @ ~/.julia/packages/CUDA/pCcGc/src/array.jl:342 [inlined]",
      "  [8] adapt_storage",
      "    @ ~/.julia/packages/CUDA/pCcGc/src/array.jl:596 [inlined]",
      "  [9] adapt_structure",
      "    @ ~/.julia/packages/Adapt/UtItS/src/Adapt.jl:57 [inlined]",
      " [10] adapt",
      "    @ ~/.julia/packages/Adapt/UtItS/src/Adapt.jl:40 [inlined]",
      " [11] #cu#1017",
      "    @ ~/.julia/packages/CUDA/pCcGc/src/array.jl:648 [inlined]",
      " [12] cu",
      "    @ ~/.julia/packages/CUDA/pCcGc/src/array.jl:648 [inlined]",
      " [13] alloc_timer(n::Int64)",
      "    @ Main ./In[10]:9",
      " [14] #3",
      "    @ ./none:0 [inlined]",
      " [15] iterate",
      "    @ ./generator.jl:47 [inlined]",
      " [16] collect(itr::Base.Generator{Vector{Int64}, var\"#3#4\"})",
      "    @ Base ./array.jl:782",
      " [17] top-level scope",
      "    @ In[11]:2"
     ]
    }
   ],
   "source": [
    "ns = 2 .^ (2:11)\n",
    "res = [alloc_timer(n) for n in ns]\n",
    "alloc      = [t[1] for t in res]\n",
    "noalloc    = [t[2] for t in res]\n",
    "noalloclv  = [t[3] for t in res]\n",
    "allocgpu   = [t[4] for t in res]\n",
    "noallocgpu = [t[5] for t in res]"
   ]
  },
  {
   "cell_type": "code",
   "execution_count": 12,
   "id": "3e072a8e-78bc-49bc-b8dc-e6693fd94748",
   "metadata": {},
   "outputs": [
    {
     "ename": "LoadError",
     "evalue": "ArgumentError: Package Plots not found in current path.\n- Run `import Pkg; Pkg.add(\"Plots\")` to install the Plots package.",
     "output_type": "error",
     "traceback": [
      "ArgumentError: Package Plots not found in current path.\n- Run `import Pkg; Pkg.add(\"Plots\")` to install the Plots package.",
      "",
      "Stacktrace:",
      " [1] macro expansion",
      "   @ ./loading.jl:1595 [inlined]",
      " [2] macro expansion",
      "   @ ./lock.jl:267 [inlined]",
      " [3] require(into::Module, mod::Symbol)",
      "   @ Base ./loading.jl:1576"
     ]
    }
   ],
   "source": [
    "using Plots\n",
    "plot(ns, alloc, label=\"*\", xscale=:log10, yscale=:log10, legend=:bottomright,\n",
    "    title=\"Which Micro-optimizations matter for BLAS3?\",\n",
    "    yticks=10.0 .^ (-8:0.5:2),\n",
    "    ylabel=\"Time (s)\", xlabel=\"N\",)\n",
    "plot!(ns,noalloc,label=\"mul! (OpenBLAS)\")\n",
    "plot!(ns,noalloclv,label=\"mygemmturbo!\")\n",
    "plot!(ns,allocgpu,label=\"* gpu\")\n",
    "plot!(ns,noallocgpu,label=\"mul! gpu\")\n",
    "savefig(\"microopts_blas3.png\")"
   ]
  },
  {
   "cell_type": "code",
   "execution_count": null,
   "id": "07cfe2e8-41d4-4a82-8f72-e378d0cb1a75",
   "metadata": {},
   "outputs": [],
   "source": []
  },
  {
   "cell_type": "raw",
   "id": "19d75d59-f350-4704-814d-b7683aea37cd",
   "metadata": {},
   "source": [
    "Thu Sep 17 06:50:32 2020       \n",
    "+-----------------------------------------------------------------------------+\n",
    "| NVIDIA-SMI 460.15       Driver Version: 460.15       CUDA Version: 11.1     |\n",
    "|-------------------------------+----------------------+----------------------+\n",
    "| GPU  Name            TCC/WDDM | Bus-Id        Disp.A | Volatile Uncorr. ECC |\n",
    "| Fan  Temp  Perf  Pwr:Usage/Cap|         Memory-Usage | GPU-Util  Compute M. |\n",
    "|===============================+======================+======================|\n",
    "|   0  GeForce GTX 166... WDDM  | 00000000:01:00.0  On |                  N/A |\n",
    "| N/A   48C    P0    20W /  N/A |    330MiB /  6144MiB |      1%      Default |\n",
    "+-------------------------------+----------------------+----------------------+\n",
    "                                                                               \n",
    "+-----------------------------------------------------------------------------+\n",
    "| Processes:                                                                  |\n",
    "|  GPU   GI   CI        PID   Type   Process name                  GPU Memory |\n",
    "|        ID   ID                                                   Usage      |\n",
    "|=============================================================================|\n",
    "|    0   N/A  N/A      1552    C+G   Insufficient Permissions        N/A      |\n",
    "|    0   N/A  N/A      8484    C+G   ...ty\\Common7\\IDE\\devenv.exe    N/A      |\n",
    "|    0   N/A  N/A      9632    C+G   ...y\\ShellExperienceHost.exe    N/A      |\n",
    "|    0   N/A  N/A     13876    C+G   ...rvice\\ePowerButton_NB.exe    N/A      |\n",
    "+-----------------------------------------------------------------------------+"
   ]
  },
  {
   "cell_type": "code",
   "execution_count": null,
   "id": "3261ac8e-55e5-444e-95da-60c51405ed01",
   "metadata": {},
   "outputs": [],
   "source": []
  }
 ],
 "metadata": {
  "kernelspec": {
   "display_name": "Julia 1.9.0",
   "language": "julia",
   "name": "julia-1.9"
  },
  "language_info": {
   "file_extension": ".jl",
   "mimetype": "application/julia",
   "name": "julia",
   "version": "1.9.0"
  }
 },
 "nbformat": 4,
 "nbformat_minor": 5
}
